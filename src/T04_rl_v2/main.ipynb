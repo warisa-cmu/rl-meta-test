{
 "cells": [
  {
   "cell_type": "code",
   "execution_count": 199,
   "id": "4bec29a0",
   "metadata": {},
   "outputs": [],
   "source": [
    "import pickle\n",
    "import gymnasium as gym\n",
    "from gymnasium import spaces\n",
    "import numpy as np\n",
    "from vrp import VRP\n",
    "import matplotlib.pyplot as plt\n",
    "import seaborn as sns"
   ]
  },
  {
   "cell_type": "code",
   "execution_count": 200,
   "id": "5ef34f1c",
   "metadata": {},
   "outputs": [],
   "source": [
    "skip_training = True\n",
    "max_current_iteration = 100"
   ]
  },
  {
   "cell_type": "code",
   "execution_count": 201,
   "id": "bada44d4",
   "metadata": {},
   "outputs": [],
   "source": [
    "class MetaEnv(gym.Env):\n",
    "    def __init__(self, vrp):\n",
    "        self.vrp = vrp\n",
    "\n",
    "        self.nbin_obj = 30\n",
    "        self.nbin_F = 20\n",
    "        self.nbin_it = 3\n",
    "        self.nA = 3\n",
    "        self.nS = self.nbin_obj * self.nbin_F * self.nbin_it\n",
    "\n",
    "        self.obj_bin = np.linspace(20, 40, self.nbin_obj)\n",
    "        self.F_bin = np.linspace(0, 1, self.nbin_F)\n",
    "        self.it_bin = np.linspace(0, 200, self.nbin_it).astype(int)\n",
    "\n",
    "        self.observation_space = spaces.Dict(\n",
    "            {\n",
    "                \"objective\": spaces.Discrete(self.nbin_obj),\n",
    "                \"muation_rate\": spaces.Discrete(self.nbin_F),\n",
    "                \"current_iteration\": spaces.Discrete(self.nbin_it),\n",
    "            }\n",
    "        )\n",
    "\n",
    "        self.action_space = spaces.Dict(\n",
    "            {\n",
    "                \"mode\": spaces.Discrete(3),\n",
    "            }\n",
    "        )\n",
    "\n",
    "    def _print_bin(self):\n",
    "        print(self.obj_bin)\n",
    "        print(self.F_bin)\n",
    "        print(self.it_bin)\n",
    "\n",
    "    def _get_obs(self):\n",
    "        \"\"\"Convert internal state to observation format.\n",
    "\n",
    "        Returns:\n",
    "            dict: Observation\n",
    "        \"\"\"\n",
    "        return {\n",
    "            \"objective\": self._cb(\n",
    "                np.digitize(self.vrp.get_best_solution(), self.obj_bin), self.nbin_obj\n",
    "            ),\n",
    "            \"mutation_rate\": self._cb(np.digitize(self.vrp.F, self.F_bin), self.nbin_F),\n",
    "            \"current_iteration\": self._cb(\n",
    "                np.digitize(self.vrp.current_iteration, self.it_bin), self.nbin_it\n",
    "            ),\n",
    "        }\n",
    "\n",
    "    def _cb(self, idx, nbin):\n",
    "        # Prevent the out-of-bound idx from np.digitize\n",
    "        if idx >= nbin:\n",
    "            return nbin - 1\n",
    "        else:\n",
    "            return idx\n",
    "\n",
    "    def convert_to_flat_index(self, multi_index):\n",
    "        return np.ravel_multi_index(\n",
    "            multi_index=multi_index, dims=(self.nbin_obj, self.nbin_F, self.nbin_it)\n",
    "        )\n",
    "\n",
    "    def convert_to_multi_index(self, indices):\n",
    "        return np.unravel_index(\n",
    "            indices=indices, shape=(self.nbin_obj, self.nbin_F, self.nbin_it)\n",
    "        )\n",
    "\n",
    "    def _get_info(self):\n",
    "        \"\"\"Compute auxiliary information for debugging.\n",
    "\n",
    "        Returns:\n",
    "            dict: Info with distance between agent and target\n",
    "        \"\"\"\n",
    "        return {\n",
    "            \"objective\": self.vrp.get_best_solution(),\n",
    "            \"mutation_rate\": self.vrp.F,\n",
    "            \"current_iteration\": self.vrp.current_iteration,\n",
    "            \"delta_F\": self.vrp.delta_F,\n",
    "        }\n",
    "\n",
    "    def reset(self, seed=None):\n",
    "        self.vrp.reset()\n",
    "        super().reset(seed=seed)\n",
    "        observation = self._get_obs()\n",
    "        info = self._get_info()\n",
    "        return observation, info\n",
    "\n",
    "    def step(self, action):\n",
    "        if action == 1:\n",
    "            self.vrp.change_F(\"DECREASE\")\n",
    "        elif action == 2:\n",
    "            self.vrp.change_F(\"INCREASE\")\n",
    "\n",
    "        self.vrp.evolve(n_iteration=10)\n",
    "\n",
    "        reward = -self.vrp.get_best_solution()\n",
    "        if self.vrp.is_exceed_max_iteration():\n",
    "            terminated = True\n",
    "            truncated = True\n",
    "        else:\n",
    "            terminated = False\n",
    "            truncated = False\n",
    "        observation = self._get_obs()\n",
    "        info = self._get_info()\n",
    "        return observation, reward, terminated, truncated, info"
   ]
  },
  {
   "cell_type": "code",
   "execution_count": 202,
   "id": "7d330c0d",
   "metadata": {},
   "outputs": [
    {
     "data": {
      "text/plain": [
       "np.int64(111)"
      ]
     },
     "execution_count": 202,
     "metadata": {},
     "output_type": "execute_result"
    }
   ],
   "source": [
    "flat_index = np.ravel_multi_index((1, 1, 1), (10, 10, 10))\n",
    "flat_index"
   ]
  },
  {
   "cell_type": "code",
   "execution_count": 203,
   "id": "17ad3448",
   "metadata": {},
   "outputs": [],
   "source": [
    "# nbin_obj = 10\n",
    "# nbin_F = 11\n",
    "# nbin_it = 1\n",
    "\n",
    "# obj_bin = np.linspace(20, 40, nbin_obj)\n",
    "# F_bin = np.linspace(0, 1, nbin_F)\n",
    "# it_bin = np.linspace(0, 1000, nbin_it).astype(int)\n",
    "\n",
    "# print(F_bin)\n",
    "# print(it_bin)\n",
    "# pi = np.zeros((nbin_obj, nbin_F, nbin_it))\n",
    "\n",
    "# np.digitize(-1, it_bin)"
   ]
  },
  {
   "cell_type": "code",
   "execution_count": 204,
   "id": "3e3dc55e",
   "metadata": {},
   "outputs": [],
   "source": [
    "distance = np.array(\n",
    "    [\n",
    "        [0, 0.664, 1.035, 1.789, 4.854, 7.586, 11.425, 11.871],\n",
    "        [4.857, 0, 0.852, 1.606, 4.671, 7.403, 11.242, 11.688],\n",
    "        [4.004, 4.23, 0, 0.753, 3.818, 6.55, 10.389, 10.835],\n",
    "        [5.857, 6.083, 6.454, 0, 3.064, 5.796, 9.635, 10.081],\n",
    "        [7.267, 7.493, 7.864, 4.066, 0, 2.934, 6.698, 7.144],\n",
    "        [10.704, 10.93, 11.301, 7.503, 3.68, 0, 5.619, 6.065],\n",
    "        [13.475, 13.701, 14.072, 10.274, 6.451, 5.409, 0, 0.943],\n",
    "        [15.079, 15.305, 15.676, 11.878, 8.055, 7.013, 1.603, 0],\n",
    "    ]\n",
    ")\n",
    "\n",
    "\n",
    "dimensions = len(distance) - 1\n",
    "maxiters = 100\n",
    "population_size = 100\n",
    "bounds = np.array([[0, 1]] * dimensions)\n",
    "Mutation_rate = np.array([0.5, 0.9])\n",
    "Crossover_rate = np.array([0.1, 0.5])\n",
    "\n",
    "\n",
    "vrp = VRP(\n",
    "    population_size=population_size,\n",
    "    dimensions=dimensions,\n",
    "    bounds=bounds,\n",
    "    Mutation_rate=Mutation_rate,\n",
    "    Crossover_rate=Crossover_rate,\n",
    "    distance=distance,\n",
    "    max_iteration=max_current_iteration,\n",
    ")"
   ]
  },
  {
   "cell_type": "code",
   "execution_count": 205,
   "id": "f23527af",
   "metadata": {},
   "outputs": [
    {
     "name": "stdout",
     "output_type": "stream",
     "text": [
      "Environment has issues: The first element returned by `env.reset()` is not within the observation space.\n"
     ]
    }
   ],
   "source": [
    "from gymnasium.utils.env_checker import check_env\n",
    "\n",
    "env = MetaEnv(vrp=vrp)\n",
    "\n",
    "# This will catch many common issues\n",
    "try:\n",
    "    check_env(env)\n",
    "    print(\"Environment passes all checks!\")\n",
    "except Exception as e:\n",
    "    print(f\"Environment has issues: {e}\")"
   ]
  },
  {
   "cell_type": "code",
   "execution_count": 206,
   "id": "fbe11a5a",
   "metadata": {},
   "outputs": [
    {
     "name": "stdout",
     "output_type": "stream",
     "text": [
      "({'objective': np.int64(19), 'mutation_rate': np.int64(10), 'current_iteration': np.int64(1)}, {'objective': np.float64(32.565), 'mutation_rate': np.float64(0.5), 'current_iteration': 0, 'delta_F': 0.1})\n",
      "{'mode': np.int64(1)}\n"
     ]
    }
   ],
   "source": [
    "env = MetaEnv(vrp=vrp)\n",
    "\n",
    "print(env.reset())\n",
    "print(env.action_space.sample())"
   ]
  },
  {
   "cell_type": "code",
   "execution_count": 207,
   "id": "ca600b98",
   "metadata": {},
   "outputs": [
    {
     "data": {
      "text/plain": [
       "({'objective': np.int64(14),\n",
       "  'mutation_rate': np.int64(12),\n",
       "  'current_iteration': np.int64(1)},\n",
       " np.float64(-29.451),\n",
       " False,\n",
       " False,\n",
       " {'objective': np.float64(29.451),\n",
       "  'mutation_rate': np.float64(0.6),\n",
       "  'current_iteration': 10,\n",
       "  'delta_F': 0.1})"
      ]
     },
     "execution_count": 207,
     "metadata": {},
     "output_type": "execute_result"
    }
   ],
   "source": [
    "env.step(action=2)"
   ]
  },
  {
   "cell_type": "code",
   "execution_count": 208,
   "id": "3f15b123",
   "metadata": {},
   "outputs": [
    {
     "name": "stdout",
     "output_type": "stream",
     "text": [
      "[20.         20.68965517 21.37931034 22.06896552 22.75862069 23.44827586\n",
      " 24.13793103 24.82758621 25.51724138 26.20689655 26.89655172 27.5862069\n",
      " 28.27586207 28.96551724 29.65517241 30.34482759 31.03448276 31.72413793\n",
      " 32.4137931  33.10344828 33.79310345 34.48275862 35.17241379 35.86206897\n",
      " 36.55172414 37.24137931 37.93103448 38.62068966 39.31034483 40.        ]\n",
      "[0.         0.05263158 0.10526316 0.15789474 0.21052632 0.26315789\n",
      " 0.31578947 0.36842105 0.42105263 0.47368421 0.52631579 0.57894737\n",
      " 0.63157895 0.68421053 0.73684211 0.78947368 0.84210526 0.89473684\n",
      " 0.94736842 1.        ]\n",
      "[  0 100 200]\n"
     ]
    }
   ],
   "source": [
    "env._print_bin()"
   ]
  },
  {
   "cell_type": "code",
   "execution_count": null,
   "id": "05b0b703",
   "metadata": {},
   "outputs": [],
   "source": [
    "# Greedy in the Limit with Infinite Exploration (GLIE)\n",
    "def GLIE(env, discount_factor=1.0, episode_count=100):\n",
    "    \"\"\"\n",
    "    Find optimal policy given an environment.\n",
    "\n",
    "    Args:\n",
    "        env: OpenAI env. In model free setup you have no access to env.P,\n",
    "             transition dynamics of the environment.\n",
    "             use step(a) to take an action and receive a tuple\n",
    "             of (s', r, done, info)\n",
    "             env.nS is number of states in the environment.\n",
    "             env.nA is number of actions in the environment.\n",
    "        episode_count: Number of episodes:\n",
    "        discount_factor: Gamma discount factor.\n",
    "\n",
    "    Returns:\n",
    "        Vector of length env.nS representing the value function.\n",
    "        policy:[S, A] shaped matrix representing the policy. Random in our case\n",
    "\n",
    "    \"\"\"\n",
    "    # Start with (all 0) state value array and state-action matrix.\n",
    "    # also initialize visit count to zero for the state-action visit count.\n",
    "    V = np.zeros(env.nS)\n",
    "    N = np.zeros((env.nS, env.nA))\n",
    "    Q = np.zeros((env.nS, env.nA))\n",
    "    # random policy\n",
    "    policy = [np.random.randint(env.nA) for _ in range(env.nS)]\n",
    "    k = 1\n",
    "    eps = 1\n",
    "\n",
    "    def argmax_a(arr):\n",
    "        \"\"\"\n",
    "        Return idx of max element in an array.\n",
    "        Break ties uniformly.\n",
    "        \"\"\"\n",
    "        max_idx = []\n",
    "        max_val = float(\"-inf\")\n",
    "        for idx, elem in enumerate(arr):\n",
    "            if elem == max_val:\n",
    "                max_idx.append(idx)\n",
    "            elif elem > max_val:\n",
    "                max_idx = [idx]\n",
    "                max_val = elem\n",
    "        return np.random.choice(max_idx)\n",
    "\n",
    "    def get_action(state):\n",
    "        if np.random.random() < eps:\n",
    "            return np.random.choice(env.nA)\n",
    "        else:\n",
    "            return argmax_a(Q[state])\n",
    "\n",
    "    # run multiple episodes\n",
    "    while k <= episode_count:\n",
    "        print(f\"k={k}\")\n",
    "        # collect samples for one episode\n",
    "        episode_states = []\n",
    "        episode_actions = []\n",
    "        episode_returns = []\n",
    "        _state, _ = env.reset()\n",
    "        state = env.convert_to_flat_index(\n",
    "            (\n",
    "                _state[\"objective\"],\n",
    "                _state[\"mutation_rate\"],\n",
    "                _state[\"current_iteration\"],\n",
    "            )\n",
    "        )\n",
    "        episode_states.append(state)\n",
    "        while True:\n",
    "            action = get_action(state)\n",
    "            episode_actions.append(action)\n",
    "            (_state, reward, done, _, info) = env.step(action)\n",
    "            # print(info)\n",
    "            state = env.convert_to_flat_index(\n",
    "                (\n",
    "                    _state[\"objective\"],\n",
    "                    _state[\"mutation_rate\"],\n",
    "                    _state[\"current_iteration\"],\n",
    "                )\n",
    "            )\n",
    "            episode_returns.append(reward)\n",
    "            if not done:\n",
    "                episode_states.append(state)\n",
    "            else:\n",
    "                break\n",
    "\n",
    "        # update state-action values\n",
    "        G = 0\n",
    "        count = len(episode_states)\n",
    "        for t in range(count - 1, -1, -1):\n",
    "            s, a, r = episode_states[t], episode_actions[t], episode_returns[t]\n",
    "            G = discount_factor * G + r\n",
    "            N[s, a] += 1\n",
    "            Q[s, a] = Q[s, a] + 1 / N[s, a] * (G - Q[s, a])\n",
    "\n",
    "        # Update policy and optimal value\n",
    "        k = k + 1\n",
    "        eps = 1 / k\n",
    "        # uncomment \"if\" to have higher exploration initially and\n",
    "        # then let epislon decay after 5000 episodes\n",
    "        # if k <=100:\n",
    "        #    eps = 0.02\n",
    "\n",
    "        for s in range(env.nS):\n",
    "            best_action = argmax_a(Q[s])\n",
    "            policy[s] = best_action\n",
    "            V[s] = Q[s, best_action]\n",
    "\n",
    "    return np.array(V), np.array(policy)"
   ]
  },
  {
   "cell_type": "code",
   "execution_count": null,
   "id": "d67c3d9e",
   "metadata": {},
   "outputs": [],
   "source": [
    "if not skip_training:\n",
    "    # run mc policy control GLIE\n",
    "    V_pi, policy = GLIE(env, discount_factor=1.0, episode_count=200)\n",
    "\n",
    "    action_labels = {0: \"NO\", 1: \"REDUCE\", 2: \"INCREASE\"}\n",
    "    # print policy\n",
    "    optimal_actions = [action_labels[policy[s]] for s in range(env.nS)]\n",
    "\n",
    "    with open(\"pi_star_100.pkl\", \"wb\") as file:\n",
    "        pickle.dump(\n",
    "            dict(policy=policy, V_pi=V_pi, optimal_actions=optimal_actions), file\n",
    "        )\n",
    "\n",
    "else:\n",
    "    with open(\"pi_star_100.pkl\", \"rb\") as file:\n",
    "        data = pickle.load(file)\n",
    "        policy = data[\"policy\"]\n",
    "        V_pi = data[\"V_pi\"]\n",
    "        optimal_actions = data[\"optimal_actions\"]\n"
   ]
  },
  {
   "cell_type": "code",
   "execution_count": 211,
   "id": "5dbfaff9",
   "metadata": {},
   "outputs": [
    {
     "data": {
      "text/plain": [
       "[<matplotlib.lines.Line2D at 0x2ea7f7ca0b0>]"
      ]
     },
     "execution_count": 211,
     "metadata": {},
     "output_type": "execute_result"
    },
    {
     "data": {
      "image/png": "[encoded data removed]",
      "text/plain": [
       "<Figure size 640x480 with 1 Axes>"
      ]
     },
     "metadata": {},
     "output_type": "display_data"
    }
   ],
   "source": [
    "plt.plot(V_pi)"
   ]
  },
  {
   "cell_type": "code",
   "execution_count": 212,
   "id": "b8ea323c",
   "metadata": {},
   "outputs": [
    {
     "data": {
      "text/plain": [
       "<Axes: xlabel='count'>"
      ]
     },
     "execution_count": 212,
     "metadata": {},
     "output_type": "execute_result"
    },
    {
     "data": {
      "image/png": "[encoded data removed]",
      "text/plain": [
       "<Figure size 640x480 with 1 Axes>"
      ]
     },
     "metadata": {},
     "output_type": "display_data"
    }
   ],
   "source": [
    "sns.countplot(optimal_actions)"
   ]
  },
  {
   "cell_type": "code",
   "execution_count": 213,
   "id": "08e5f094",
   "metadata": {},
   "outputs": [
    {
     "data": {
      "text/plain": [
       "1"
      ]
     },
     "execution_count": 213,
     "metadata": {},
     "output_type": "execute_result"
    }
   ],
   "source": [
    "np.random.randint(3)"
   ]
  },
  {
   "cell_type": "code",
   "execution_count": 218,
   "id": "b4a41cf5",
   "metadata": {},
   "outputs": [
    {
     "name": "stdout",
     "output_type": "stream",
     "text": [
      "Step  1: action= 0, Reward=-30.81, Terminated=False, Truncated=False, info={'objective': np.float64(30.807), 'mutation_rate': np.float64(0.5), 'current_iteration': 10, 'delta_F': 0.1}\n",
      "Step  2: action= 0, Reward=-29.41, Terminated=False, Truncated=False, info={'objective': np.float64(29.41), 'mutation_rate': np.float64(0.5), 'current_iteration': 20, 'delta_F': 0.1}\n",
      "Step  3: action= 1, Reward=-29.41, Terminated=False, Truncated=False, info={'objective': np.float64(29.41), 'mutation_rate': np.float64(0.4), 'current_iteration': 30, 'delta_F': 0.1}\n",
      "Step  4: action= 1, Reward=-29.41, Terminated=False, Truncated=False, info={'objective': np.float64(29.41), 'mutation_rate': np.float64(0.30000000000000004), 'current_iteration': 40, 'delta_F': 0.1}\n",
      "Step  5: action= 2, Reward=-29.41, Terminated=False, Truncated=False, info={'objective': np.float64(29.41), 'mutation_rate': np.float64(0.4), 'current_iteration': 50, 'delta_F': 0.1}\n",
      "Step  6: action= 1, Reward=-29.41, Terminated=False, Truncated=False, info={'objective': np.float64(29.41), 'mutation_rate': np.float64(0.30000000000000004), 'current_iteration': 60, 'delta_F': 0.1}\n",
      "Step  7: action= 1, Reward=-29.41, Terminated=False, Truncated=False, info={'objective': np.float64(29.41), 'mutation_rate': np.float64(0.20000000000000004), 'current_iteration': 70, 'delta_F': 0.1}\n",
      "Step  8: action= 1, Reward=-29.41, Terminated=False, Truncated=False, info={'objective': np.float64(29.41), 'mutation_rate': np.float64(0.10000000000000003), 'current_iteration': 80, 'delta_F': 0.1}\n",
      "Step  9: action= 2, Reward=-29.41, Terminated=False, Truncated=False, info={'objective': np.float64(29.41), 'mutation_rate': np.float64(0.20000000000000004), 'current_iteration': 90, 'delta_F': 0.1}\n",
      "Step 10: action= 2, Reward=-29.41, Terminated=False, Truncated=False, info={'objective': np.float64(29.41), 'mutation_rate': np.float64(0.30000000000000004), 'current_iteration': 100, 'delta_F': 0.1}\n",
      "Step 11: action= 0, Reward=-29.41, Terminated=True, Truncated=True, info={'objective': np.float64(29.41), 'mutation_rate': np.float64(0.30000000000000004), 'current_iteration': 110, 'delta_F': 0.1}\n",
      "Episode finished after 11 steps with total reward: -324.91\n"
     ]
    }
   ],
   "source": [
    "total_reward = 0.0\n",
    "total_steps = 0\n",
    "curState, _ = env.reset()\n",
    "\n",
    "done = False\n",
    "while not done:\n",
    "    action = np.random.randint(3)\n",
    "    curState, reward, terminated, truncated, info = env.step(action)\n",
    "    total_reward += reward\n",
    "    total_steps += 1\n",
    "    done = terminated or truncated\n",
    "    print(\n",
    "        f\"Step {total_steps:2d}: action={action:2d}, Reward={reward:5.2f}, \"\n",
    "        f\"Terminated={terminated}, Truncated={truncated}, info={info}\"\n",
    "    )\n",
    "\n",
    "print(\n",
    "    f\"Episode finished after {total_steps} steps with total reward: {total_reward:.2f}\"\n",
    ")\n",
    "\n",
    "env.close()"
   ]
  },
  {
   "cell_type": "code",
   "execution_count": null,
   "id": "038fd88d",
   "metadata": {},
   "outputs": [
    {
     "name": "stdout",
     "output_type": "stream",
     "text": [
      "Step  1: action= 2, Reward=-29.41, Terminated=False, Truncated=False, info={'objective': np.float64(29.41), 'mutation_rate': np.float64(0.6), 'current_iteration': 10, 'delta_F': 0.1}\n",
      "Step  2: action= 0, Reward=-29.41, Terminated=False, Truncated=False, info={'objective': np.float64(29.41), 'mutation_rate': np.float64(0.6), 'current_iteration': 20, 'delta_F': 0.1}\n",
      "Step  3: action= 0, Reward=-29.41, Terminated=False, Truncated=False, info={'objective': np.float64(29.41), 'mutation_rate': np.float64(0.6), 'current_iteration': 30, 'delta_F': 0.1}\n",
      "Step  4: action= 0, Reward=-29.41, Terminated=False, Truncated=False, info={'objective': np.float64(29.41), 'mutation_rate': np.float64(0.6), 'current_iteration': 40, 'delta_F': 0.1}\n",
      "Step  5: action= 0, Reward=-29.41, Terminated=False, Truncated=False, info={'objective': np.float64(29.41), 'mutation_rate': np.float64(0.6), 'current_iteration': 50, 'delta_F': 0.1}\n",
      "Step  6: action= 0, Reward=-29.41, Terminated=False, Truncated=False, info={'objective': np.float64(29.41), 'mutation_rate': np.float64(0.6), 'current_iteration': 60, 'delta_F': 0.1}\n",
      "Step  7: action= 0, Reward=-29.41, Terminated=False, Truncated=False, info={'objective': np.float64(29.41), 'mutation_rate': np.float64(0.6), 'current_iteration': 70, 'delta_F': 0.1}\n",
      "Step  8: action= 0, Reward=-29.41, Terminated=False, Truncated=False, info={'objective': np.float64(29.41), 'mutation_rate': np.float64(0.6), 'current_iteration': 80, 'delta_F': 0.1}\n",
      "Step  9: action= 0, Reward=-29.41, Terminated=False, Truncated=False, info={'objective': np.float64(29.41), 'mutation_rate': np.float64(0.6), 'current_iteration': 90, 'delta_F': 0.1}\n",
      "Step 10: action= 0, Reward=-29.41, Terminated=False, Truncated=False, info={'objective': np.float64(29.41), 'mutation_rate': np.float64(0.6), 'current_iteration': 100, 'delta_F': 0.1}\n",
      "Step 11: action= 1, Reward=-29.41, Terminated=True, Truncated=True, info={'objective': np.float64(29.41), 'mutation_rate': np.float64(0.5), 'current_iteration': 110, 'delta_F': 0.1}\n",
      "Episode finished after 11 steps with total reward: -323.51\n"
     ]
    }
   ],
   "source": [
    "total_reward = 0.0\n",
    "total_steps = 0\n",
    "curState, _ = env.reset()\n",
    "state = env.convert_to_flat_index(\n",
    "    (\n",
    "        curState[\"objective\"],\n",
    "        curState[\"mutation_rate\"],\n",
    "        curState[\"current_iteration\"],\n",
    "    )\n",
    ")\n",
    "\n",
    "done = False\n",
    "while not done:\n",
    "    action = policy[state]\n",
    "    curState, reward, terminated, truncated, info = env.step(action)\n",
    "    state = env.convert_to_flat_index(\n",
    "        (\n",
    "            curState[\"objective\"],\n",
    "            curState[\"mutation_rate\"],\n",
    "            curState[\"current_iteration\"],\n",
    "        )\n",
    "    )\n",
    "\n",
    "    total_reward += reward\n",
    "    total_steps += 1\n",
    "    done = terminated or truncated\n",
    "    print(\n",
    "        f\"Step {total_steps:2d}: action={action:2d}, Reward={reward:5.2f}, \"\n",
    "        f\"Terminated={terminated}, Truncated={truncated}, info={info}\"\n",
    "    )\n",
    "\n",
    "print(\n",
    "    f\"Episode finished after {total_steps} steps with total reward: {total_reward:.2f}\"\n",
    ")\n",
    "\n",
    "env.close()"
   ]
  }
 ],
 "metadata": {
  "kernelspec": {
   "display_name": "rl-meta-test",
   "language": "python",
   "name": "python3"
  },
  "language_info": {
   "codemirror_mode": {
    "name": "ipython",
    "version": 3
   },
   "file_extension": ".py",
   "mimetype": "text/x-python",
   "name": "python",
   "nbconvert_exporter": "python",
   "pygments_lexer": "ipython3",
   "version": "3.10.17"
  }
 },
 "nbformat": 4,
 "nbformat_minor": 5
}
