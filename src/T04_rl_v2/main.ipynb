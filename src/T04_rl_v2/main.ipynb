{
 "cells": [
  {
   "cell_type": "code",
   "execution_count": 528,
   "id": "4bec29a0",
   "metadata": {},
   "outputs": [],
   "source": [
    "import gymnasium as gym\n",
    "from gymnasium import spaces\n",
    "import numpy as np\n",
    "from vrp import VRP"
   ]
  },
  {
   "cell_type": "code",
   "execution_count": 529,
   "id": "5ef34f1c",
   "metadata": {},
   "outputs": [],
   "source": [
    "max_current_iteration = 1000"
   ]
  },
  {
   "cell_type": "code",
   "execution_count": null,
   "id": "bada44d4",
   "metadata": {},
   "outputs": [],
   "source": [
    "class MetaEnv(gym.Env):\n",
    "    def __init__(self, vrp):\n",
    "        self.vrp = vrp\n",
    "        self.nS = 10\n",
    "        self.nA = 3\n",
    "        self.observation_space = gym.spaces.Discrete(self.nS)\n",
    "        self.action_space = spaces.Discrete(self.nA)\n",
    "\n",
    "    \n",
    "\n",
    "    def _get_obs(self):\n",
    "        \"\"\"Convert internal state to observation format.\n",
    "\n",
    "        Returns:\n",
    "            dict: Observation\n",
    "        \"\"\"\n",
    "        return 1\n",
    "\n",
    "    def _get_info(self):\n",
    "        \"\"\"Compute auxiliary information for debugging.\n",
    "\n",
    "        Returns:\n",
    "            dict: Info with distance between agent and target\n",
    "        \"\"\"\n",
    "        return {\n",
    "            \"objective\": self.vrp.get_best_solution(),\n",
    "            \"mutation_rate\": self.vrp.F,\n",
    "            \"current_iteration\": self.vrp.current_iteration,\n",
    "            \"delta_F\": self.vrp.delta_F,\n",
    "        }\n",
    "\n",
    "    def reset(self, seed=None):\n",
    "        self.vrp.reset()\n",
    "        super().reset(seed=seed)\n",
    "        observation = self._get_obs()\n",
    "        info = self._get_info()\n",
    "        return observation, info\n",
    "\n",
    "    def step(self, action):\n",
    "        if action == 1:\n",
    "            self.vrp.change_F(\"DECREASE\")\n",
    "        elif action == 2:\n",
    "            self.vrp.change_F(\"INCREASE\")\n",
    "\n",
    "        self.vrp.evolve(n_iteration=10)\n",
    "\n",
    "        reward = -self.vrp.get_best_solution()\n",
    "        if self.vrp.is_exceed_max_iteration():\n",
    "            terminated = True\n",
    "            truncated = True\n",
    "        else:\n",
    "            terminated = False\n",
    "            truncated = False\n",
    "        observation = self._get_obs()\n",
    "        info = self._get_info()\n",
    "        return observation, reward, terminated, truncated, info"
   ]
  },
  {
   "cell_type": "code",
   "execution_count": null,
   "id": "17ad3448",
   "metadata": {},
   "outputs": [
    {
     "data": {
      "text/plain": [
       "array([   0,  111,  222,  333,  444,  555,  666,  777,  888, 1000])"
      ]
     },
     "execution_count": 560,
     "metadata": {},
     "output_type": "execute_result"
    }
   ],
   "source": [
    "nbin_obj = 10\n",
    "nbin_F = 10\n",
    "nbin_bin_obj = 10\n",
    "\n",
    "obj_bin = np.linspace(20, 40, n_bin)\n",
    "F_bin = np.linspace(0, 1, n_bin)\n",
    "it_bin = np.linspace(0,1000, n_bin).astype(int)\n",
    "pi = np.zeros\n",
    "\n",
    "obj_bin\n",
    "F_bin\n",
    "it_bin"
   ]
  },
  {
   "cell_type": "code",
   "execution_count": null,
   "id": "c3c80d55",
   "metadata": {},
   "outputs": [],
   "source": []
  },
  {
   "cell_type": "code",
   "execution_count": 531,
   "id": "3e3dc55e",
   "metadata": {},
   "outputs": [],
   "source": [
    "distance = np.array(\n",
    "    [\n",
    "        [0, 0.664, 1.035, 1.789, 4.854, 7.586, 11.425, 11.871],\n",
    "        [4.857, 0, 0.852, 1.606, 4.671, 7.403, 11.242, 11.688],\n",
    "        [4.004, 4.23, 0, 0.753, 3.818, 6.55, 10.389, 10.835],\n",
    "        [5.857, 6.083, 6.454, 0, 3.064, 5.796, 9.635, 10.081],\n",
    "        [7.267, 7.493, 7.864, 4.066, 0, 2.934, 6.698, 7.144],\n",
    "        [10.704, 10.93, 11.301, 7.503, 3.68, 0, 5.619, 6.065],\n",
    "        [13.475, 13.701, 14.072, 10.274, 6.451, 5.409, 0, 0.943],\n",
    "        [15.079, 15.305, 15.676, 11.878, 8.055, 7.013, 1.603, 0],\n",
    "    ]\n",
    ")\n",
    "\n",
    "\n",
    "dimensions = len(distance) - 1\n",
    "maxiters = 100\n",
    "population_size = 100\n",
    "bounds = np.array([[0, 1]] * dimensions)\n",
    "Mutation_rate = np.array([0.5, 0.9])\n",
    "Crossover_rate = np.array([0.1, 0.5])\n",
    "\n",
    "\n",
    "vrp = VRP(\n",
    "    population_size=population_size,\n",
    "    dimensions=dimensions,\n",
    "    bounds=bounds,\n",
    "    Mutation_rate=Mutation_rate,\n",
    "    Crossover_rate=Crossover_rate,\n",
    "    distance=distance,\n",
    "    max_iteration=1000,\n",
    ")"
   ]
  },
  {
   "cell_type": "code",
   "execution_count": 532,
   "id": "f23527af",
   "metadata": {},
   "outputs": [
    {
     "name": "stdout",
     "output_type": "stream",
     "text": [
      "Environment has issues: The `reset` method does not provide an `options` or `**kwargs` keyword argument.\n"
     ]
    }
   ],
   "source": [
    "from gymnasium.utils.env_checker import check_env\n",
    "\n",
    "env = MetaEnv(vrp=vrp)\n",
    "\n",
    "# This will catch many common issues\n",
    "try:\n",
    "    check_env(env)\n",
    "    print(\"Environment passes all checks!\")\n",
    "except Exception as e:\n",
    "    print(f\"Environment has issues: {e}\")"
   ]
  },
  {
   "cell_type": "code",
   "execution_count": 549,
   "id": "fbe11a5a",
   "metadata": {},
   "outputs": [
    {
     "name": "stdout",
     "output_type": "stream",
     "text": [
      "(1, {'objective': np.float64(37.208), 'mutation_rate': np.float64(0.5), 'current_iteration': 0, 'delta_F': np.float64(0.04)})\n",
      "1\n"
     ]
    }
   ],
   "source": [
    "env = MetaEnv(vrp=vrp)\n",
    "\n",
    "print(env.reset())\n",
    "print(env.action_space.sample())"
   ]
  },
  {
   "cell_type": "code",
   "execution_count": 548,
   "id": "ca600b98",
   "metadata": {},
   "outputs": [
    {
     "data": {
      "text/plain": [
       "(1,\n",
       " np.float64(-29.41),\n",
       " False,\n",
       " False,\n",
       " {'objective': np.float64(29.41),\n",
       "  'mutation_rate': np.float64(1.0200000000000005),\n",
       "  'current_iteration': 130,\n",
       "  'delta_F': np.float64(0.04)})"
      ]
     },
     "execution_count": 548,
     "metadata": {},
     "output_type": "execute_result"
    }
   ],
   "source": [
    "env.step(action=2)"
   ]
  },
  {
   "cell_type": "code",
   "execution_count": 535,
   "id": "25a5c95e",
   "metadata": {},
   "outputs": [
    {
     "ename": "TypeError",
     "evalue": "'int' object is not subscriptable",
     "output_type": "error",
     "traceback": [
      "\u001b[31m---------------------------------------------------------------------------\u001b[39m",
      "\u001b[31mTypeError\u001b[39m                                 Traceback (most recent call last)",
      "\u001b[36mCell\u001b[39m\u001b[36m \u001b[39m\u001b[32mIn[535]\u001b[39m\u001b[32m, line 7\u001b[39m\n\u001b[32m      5\u001b[39m \u001b[38;5;28;01mfor\u001b[39;00m i \u001b[38;5;129;01min\u001b[39;00m \u001b[38;5;28mrange\u001b[39m(n):\n\u001b[32m      6\u001b[39m     obs, _ = env.reset()\n\u001b[32m----> \u001b[39m\u001b[32m7\u001b[39m     obs_arr[i] = \u001b[43mobs\u001b[49m\u001b[43m[\u001b[49m\u001b[33;43m\"\u001b[39;49m\u001b[33;43mobjective\u001b[39;49m\u001b[33;43m\"\u001b[39;49m\u001b[43m]\u001b[49m\n\u001b[32m      8\u001b[39m     m_arr[i] = obs[\u001b[33m\"\u001b[39m\u001b[33mmutation_rate\u001b[39m\u001b[33m\"\u001b[39m]\n\u001b[32m     10\u001b[39m \u001b[38;5;28mprint\u001b[39m(obs_arr.min(), obs_arr.max())\n",
      "\u001b[31mTypeError\u001b[39m: 'int' object is not subscriptable"
     ]
    }
   ],
   "source": [
    "n = 1000\n",
    "obs_arr = np.zeros(n)\n",
    "m_arr = np.zeros(n)\n",
    "# Generate range\n",
    "for i in range(n):\n",
    "    obs, _ = env.reset()\n",
    "    obs_arr[i] = obs[\"objective\"]\n",
    "    m_arr[i] = obs[\"mutation_rate\"]\n",
    "\n",
    "print(obs_arr.min(), obs_arr.max())\n"
   ]
  },
  {
   "cell_type": "code",
   "execution_count": null,
   "id": "309ea4c2",
   "metadata": {},
   "outputs": [],
   "source": [
    "# env = MetaEnv(vrp=vrp)\n",
    "\n",
    "# env.reset()\n",
    "# done = False\n",
    "# count = 0\n",
    "# while not done:\n",
    "#     env.step()\n",
    "#     count = count + 1\n",
    "#     if count > 10:\n",
    "#         done = True\n",
    "\n"
   ]
  }
 ],
 "metadata": {
  "kernelspec": {
   "display_name": "rl-meta-test",
   "language": "python",
   "name": "python3"
  },
  "language_info": {
   "codemirror_mode": {
    "name": "ipython",
    "version": 3
   },
   "file_extension": ".py",
   "mimetype": "text/x-python",
   "name": "python",
   "nbconvert_exporter": "python",
   "pygments_lexer": "ipython3",
   "version": "3.12.10"
  }
 },
 "nbformat": 4,
 "nbformat_minor": 5
}
