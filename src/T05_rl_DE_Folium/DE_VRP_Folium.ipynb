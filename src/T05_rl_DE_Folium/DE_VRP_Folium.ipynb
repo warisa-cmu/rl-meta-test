{
 "cells": [
  {
   "cell_type": "markdown",
   "id": "d2c2df37",
   "metadata": {},
   "source": [
    "# Import Library\n"
   ]
  },
  {
   "cell_type": "code",
   "execution_count": 1,
   "id": "d12be91e",
   "metadata": {},
   "outputs": [],
   "source": [
    "import numpy as np\n",
    "import pandas as pd\n",
    "import matplotlib.pyplot as plt\n",
    "import time"
   ]
  },
  {
   "cell_type": "markdown",
   "id": "405398d0",
   "metadata": {},
   "source": [
    "# Import Data\n"
   ]
  },
  {
   "cell_type": "markdown",
   "id": "4969aa10",
   "metadata": {},
   "source": [
    "### Distance matrix (50 nodes)"
   ]
  },
  {
   "cell_type": "code",
   "execution_count": 2,
   "id": "3e0cc519",
   "metadata": {},
   "outputs": [],
   "source": [
    "# Distance matrix 50 node\n",
    "df_distance = pd.read_excel(r'C:\\rl-meta-test\\src\\Source\\VRP_50_node.xlsx', sheet_name=\"Sheet1\")\n",
    "distance = df_distance.iloc[:,1:].to_numpy()\n",
    "kwargs = {\"distance\": distance}\n"
   ]
  },
  {
   "cell_type": "markdown",
   "id": "3bb6f2d0",
   "metadata": {},
   "source": [
    "# Differential Evolutional Algorithm Parameters"
   ]
  },
  {
   "cell_type": "code",
   "execution_count": 3,
   "id": "ecd71349",
   "metadata": {},
   "outputs": [],
   "source": [
    "dimensions = len(distance) - 1\n",
    "maxiters = 1000\n",
    "n_pop = 100\n",
    "bounds = np.array([[0, 1]] * dimensions)\n",
    "Mutation_rate = np.array([0.9, 0.5])\n",
    "Crossover_rate = np.array([0.5, 0.1])"
   ]
  },
  {
   "cell_type": "markdown",
   "id": "f61c8b93",
   "metadata": {},
   "source": [
    "# Differential Evolutional Algorithm\n"
   ]
  },
  {
   "cell_type": "code",
   "execution_count": 4,
   "id": "f5f72930",
   "metadata": {},
   "outputs": [],
   "source": [
    "def differential_evolution(\n",
    "    objective_func,\n",
    "    bounds,\n",
    "    population_size=n_pop,\n",
    "    max_generations=maxiters,\n",
    "    Mutation_rate=Mutation_rate,\n",
    "    Crossover_rate=Crossover_rate,\n",
    "    **kwargs,\n",
    "):\n",
    "    # Initialize population\n",
    "    population = np.random.uniform(\n",
    "        bounds[:, 0], bounds[:, 1], (population_size, len(bounds))\n",
    "    )\n",
    "    global_solution = np.array([])\n",
    "    Upperbound_Mutation = Mutation_rate[1]\n",
    "    Lowerbound_Mutation = Mutation_rate[0]\n",
    "    Upperbound_Crossover_rate = Crossover_rate[1]\n",
    "    Lowerbound_Crossover_rate = Crossover_rate[0]\n",
    "    F = Mutation_rate[0]\n",
    "    CR = Crossover_rate[0]\n",
    "    for generation in range(max_generations):\n",
    "        # print(f'Iteration {generation}')\n",
    "        current_cost = np.array([])\n",
    "        F += (Upperbound_Mutation - Lowerbound_Mutation) / max_generations\n",
    "        CR += (Upperbound_Crossover_rate - Lowerbound_Crossover_rate) / max_generations\n",
    "        for i in range(population_size):\n",
    "            # Mutation\n",
    "            indices = [idx for idx in range(population_size) if idx != i]\n",
    "            a, b, c = population[np.random.choice(indices, 3, replace=False)]\n",
    "            mutant = population[i] + F * (b - c)\n",
    "\n",
    "            # Crossover\n",
    "            crossover_prob = np.random.rand(len(bounds))\n",
    "            trial = np.where(crossover_prob < CR, mutant, population[i])\n",
    "\n",
    "            # Selection\n",
    "            fitness_trial = objective_func(trial, **kwargs)\n",
    "            fitness_current = objective_func(population[i], **kwargs)\n",
    "\n",
    "            if fitness_trial < fitness_current:\n",
    "                population[i] = trial\n",
    "                current_cost = np.insert(current_cost, len(current_cost), fitness_trial)\n",
    "            else:\n",
    "                current_cost = np.insert(\n",
    "                    current_cost, len(current_cost), fitness_current\n",
    "                )\n",
    "            #print(f\"population {i}\")\n",
    "            #print(f\"current_cost{current_cost}\")\n",
    "            #print(\"---------\" * 30)\n",
    "        best_index_plot = current_cost[np.argmin(current_cost)]\n",
    "        global_solution = np.insert(\n",
    "            global_solution, len(global_solution), best_index_plot\n",
    "        )\n",
    "\n",
    "    # Find the best solution\n",
    "    best_index = np.argmin(\n",
    "        [objective_func(individual, **kwargs) for individual in population]\n",
    "    )\n",
    "    best_solution = population[best_index]\n",
    "\n",
    "    return best_solution, global_solution"
   ]
  },
  {
   "cell_type": "markdown",
   "id": "05f9853c",
   "metadata": {},
   "source": [
    "# Objective Function Evolution\n"
   ]
  },
  {
   "cell_type": "code",
   "execution_count": 5,
   "id": "72623b5f",
   "metadata": {},
   "outputs": [],
   "source": [
    "def objective_func(x, **kwargs):\n",
    "    \"\"\"Decoding of each particles for obtaining routing solutions by argsort()\"\"\"\n",
    "    seq = x.argsort() + 1\n",
    "    \"\"\"Calculate objective function for obtaining objective value of each particle\"\"\"\n",
    "    j = f_per_particle(seq, **kwargs)\n",
    "    return np.array(j)\n",
    "\n",
    "\n",
    "def f_per_particle(m, **kwargs):\n",
    "    X = m  # Sequence\n",
    "    obj_val = preserving_strategy(X, **kwargs)  # Call Preserving strategy.\n",
    "    return obj_val\n",
    "\n",
    "\n",
    "def preserving_strategy(X, **kwargs):\n",
    "    # distance matrix\n",
    "    distance = kwargs[\"distance\"]\n",
    "    # total distance starts from zero km.\n",
    "    total_distance = 0\n",
    "    # Vehicle travel from depot to customer i\n",
    "    total_distance += distance[0][X[0]]\n",
    "    # Total distance of routing solution\n",
    "    for i in range(len(X) - 1):\n",
    "        total_distance += distance[X[i]][X[i + 1]]\n",
    "    # Vehicle returns to depot\n",
    "    total_distance += distance[X[-1]][0]\n",
    "    # Return total distance (km.) that vehicle traveled\n",
    "    return total_distance"
   ]
  },
  {
   "cell_type": "markdown",
   "id": "bd5cbc8d",
   "metadata": {},
   "source": [
    "# Finding Solution\n"
   ]
  },
  {
   "cell_type": "code",
   "execution_count": 6,
   "id": "e49f1ae7",
   "metadata": {},
   "outputs": [],
   "source": [
    "start_algorithm = time.time()\n",
    "best_solution, global_solution_plot = differential_evolution(\n",
    "    objective_func,\n",
    "    bounds=bounds,\n",
    "    population_size=n_pop,\n",
    "    max_generations=maxiters,\n",
    "    Mutation_rate=Mutation_rate,\n",
    "    Crossover_rate=Crossover_rate,\n",
    "    **kwargs,\n",
    ")\n",
    "End_algorithm = time.time()\n",
    "run_algorithm = End_algorithm - start_algorithm"
   ]
  },
  {
   "cell_type": "markdown",
   "id": "5af46614",
   "metadata": {},
   "source": [
    "# Solution\n"
   ]
  },
  {
   "cell_type": "code",
   "execution_count": 7,
   "id": "cafc328d",
   "metadata": {},
   "outputs": [
    {
     "data": {
      "text/plain": [
       "array([-3.52174372e+02, -1.87662511e+01,  8.81746416e+01,  9.41618783e+01,\n",
       "       -4.73307759e+03, -4.68675536e+03, -8.22073844e+03, -2.74179457e+03,\n",
       "       -1.73191147e+03, -6.51495355e+02, -1.15719270e+03, -1.20507824e+03,\n",
       "       -4.29085243e+02, -1.07388221e+03, -1.58288475e+03, -4.65792108e+01,\n",
       "       -5.18582071e+01, -2.08294216e+02, -1.13137668e+02, -1.69774849e+02,\n",
       "       -8.04580972e+01, -3.47317077e+01,  2.09770206e+02,  1.94990331e+02,\n",
       "        2.89131194e+02,  1.45326250e+02,  2.40534461e+00,  1.07242273e+01,\n",
       "        3.12812459e+02, -8.87056499e+00,  1.76273526e+01,  3.00690219e+02,\n",
       "        2.18996792e+01,  2.90354673e+01,  1.25065296e+02,  3.66770133e+02,\n",
       "        1.21211363e+02,  4.94003682e+02,  2.20344690e+02,  4.40815970e+02,\n",
       "       -1.07497204e+01, -2.77961184e+01,  5.61133299e+01,  4.07364902e+01,\n",
       "       -1.32691426e+01,  8.22484569e+01,  4.40990244e+02,  4.45785101e+02,\n",
       "        1.02207560e+02])"
      ]
     },
     "execution_count": 7,
     "metadata": {},
     "output_type": "execute_result"
    }
   ],
   "source": [
    "best_solution"
   ]
  },
  {
   "cell_type": "code",
   "execution_count": 8,
   "id": "fd01de8d",
   "metadata": {},
   "outputs": [
    {
     "name": "stdout",
     "output_type": "stream",
     "text": [
      " Routing: [ 0  7  5  6  8  9 15 12 11 14 10 13  1 18 20 19 21 17 16 22 42  2 45 41\n",
      " 30 27 28 31 33 34 44 43 46  3  4 49 37 35 26 24 23 39 25 32 29 36 40 47\n",
      " 48 38  0]\n"
     ]
    }
   ],
   "source": [
    "routing = best_solution.argsort() + 1\n",
    "routing = np.insert(routing, len(routing), 0)\n",
    "routing = np.insert(routing, 0, 0)\n",
    "print(f\" Routing: {routing}\")"
   ]
  },
  {
   "cell_type": "code",
   "execution_count": 19,
   "id": "1a3158be",
   "metadata": {},
   "outputs": [
    {
     "name": "stdout",
     "output_type": "stream",
     "text": [
      " Total distance 1642.349 KM.\n"
     ]
    }
   ],
   "source": [
    "print(f\" Total distance {preserving_strategy(routing[1:-1], **kwargs)} KM.\")"
   ]
  },
  {
   "cell_type": "code",
   "execution_count": 21,
   "id": "96fbb9fc",
   "metadata": {},
   "outputs": [
    {
     "data": {
      "text/plain": [
       "array([ 7,  5,  6,  8,  9, 15, 12, 11, 14, 10, 13,  1, 18, 20, 19, 21, 17,\n",
       "       16, 22, 42,  2, 45, 41, 30, 27, 28, 31, 33, 34, 44, 43, 46,  3,  4,\n",
       "       49, 37, 35, 26, 24, 23, 39, 25, 32, 29, 36, 40, 47, 48, 38])"
      ]
     },
     "execution_count": 21,
     "metadata": {},
     "output_type": "execute_result"
    }
   ],
   "source": [
    "routing[1:-1]"
   ]
  },
  {
   "cell_type": "code",
   "execution_count": 17,
   "id": "44235867",
   "metadata": {},
   "outputs": [
    {
     "data": {
      "text/plain": [
       "np.float64(1642.349)"
      ]
     },
     "execution_count": 17,
     "metadata": {},
     "output_type": "execute_result"
    }
   ],
   "source": [
    "global_solution_plot[-1]"
   ]
  },
  {
   "cell_type": "code",
   "execution_count": 11,
   "id": "e54ed543",
   "metadata": {},
   "outputs": [
    {
     "data": {
      "image/png": "[encoded data removed]",
      "text/plain": [
       "<Figure size 1000x500 with 1 Axes>"
      ]
     },
     "metadata": {},
     "output_type": "display_data"
    }
   ],
   "source": [
    "Replication = [i for i in range(len(global_solution_plot))]\n",
    "y1 = global_solution_plot.tolist()\n",
    "fig, ax = plt.subplots(1, figsize=(10, 5))\n",
    "ax.plot(Replication, y1, marker=\".\", label=\"Differential Evoluation Algorithm\")\n",
    "ax.set(\n",
    "    xlabel=\"iteration\",\n",
    "    ylabel=\"Total Distance (Km.)\",\n",
    "    title=\"Differential Evoluation Algorithm Replication\",\n",
    ")\n",
    "ax.grid()\n",
    "ax.legend()\n",
    "plt.show()"
   ]
  },
  {
   "cell_type": "code",
   "execution_count": null,
   "id": "49e8478d",
   "metadata": {},
   "outputs": [],
   "source": []
  }
 ],
 "metadata": {
  "kernelspec": {
   "display_name": "rl-meta-test (3.12.10)",
   "language": "python",
   "name": "python3"
  },
  "language_info": {
   "codemirror_mode": {
    "name": "ipython",
    "version": 3
   },
   "file_extension": ".py",
   "mimetype": "text/x-python",
   "name": "python",
   "nbconvert_exporter": "python",
   "pygments_lexer": "ipython3",
   "version": "3.12.10"
  }
 },
 "nbformat": 4,
 "nbformat_minor": 5
}
