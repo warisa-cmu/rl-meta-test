{
 "cells": [
  {
   "cell_type": "markdown",
   "id": "2a6bea79",
   "metadata": {},
   "source": [
    "# Import Library\n"
   ]
  },
  {
   "cell_type": "code",
   "execution_count": null,
   "id": "fbf6c1cf",
   "metadata": {},
   "outputs": [],
   "source": [
    "import numpy as np\n",
    "import pandas as pd\n",
    "import matplotlib.pyplot as plt\n",
    "import time"
   ]
  },
  {
   "cell_type": "markdown",
   "id": "e33a56d7",
   "metadata": {},
   "source": [
    "# Import Data\n"
   ]
  },
  {
   "cell_type": "code",
   "execution_count": null,
   "id": "4f3e72f7",
   "metadata": {},
   "outputs": [],
   "source": [
    "# Distance matrix\n",
    "distance = np.array(\n",
    "    [\n",
    "        [0, 0.664, 1.035, 1.789, 4.854, 7.586, 11.425, 11.871],\n",
    "        [4.857, 0, 0.852, 1.606, 4.671, 7.403, 11.242, 11.688],\n",
    "        [4.004, 4.23, 0, 0.753, 3.818, 6.55, 10.389, 10.835],\n",
    "        [5.857, 6.083, 6.454, 0, 3.064, 5.796, 9.635, 10.081],\n",
    "        [7.267, 7.493, 7.864, 4.066, 0, 2.934, 6.698, 7.144],\n",
    "        [10.704, 10.93, 11.301, 7.503, 3.68, 0, 5.619, 6.065],\n",
    "        [13.475, 13.701, 14.072, 10.274, 6.451, 5.409, 0, 0.943],\n",
    "        [15.079, 15.305, 15.676, 11.878, 8.055, 7.013, 1.603, 0],\n",
    "    ]\n",
    ")\n",
    "kwargs = {\"distance\": distance}\n",
    "\n",
    "dimensions = len(distance) - 1\n",
    "maxiters = 100\n",
    "n_pop = 100\n",
    "bounds = np.array([[0, 1]] * dimensions)\n",
    "Mutation_rate = np.array([0.9, 0.5])\n",
    "Crossover_rate = np.array([0.5, 0.1])\n"
   ]
  },
  {
   "cell_type": "markdown",
   "id": "246c75a7",
   "metadata": {},
   "source": [
    "# Differential Evolutional Algorithm\n"
   ]
  },
  {
   "cell_type": "code",
   "execution_count": null,
   "id": "d4f86b19",
   "metadata": {},
   "outputs": [],
   "source": [
    "def differential_evolution(\n",
    "    objective_func,\n",
    "    bounds,\n",
    "    population_size=n_pop,\n",
    "    max_generations=maxiters,\n",
    "    Mutation_rate=Mutation_rate,\n",
    "    Crossover_rate=Crossover_rate,\n",
    "    **kwargs,\n",
    "):\n",
    "    # Initialize population\n",
    "    population = np.random.uniform(\n",
    "        bounds[:, 0], bounds[:, 1], (population_size, len(bounds))\n",
    "    )\n",
    "    global_solution = np.array([])\n",
    "    Upperbound_Mutation = Mutation_rate[1]\n",
    "    Lowerbound_Mutation = Mutation_rate[0]\n",
    "    Upperbound_Crossover_rate = Crossover_rate[1]\n",
    "    Lowerbound_Crossover_rate = Crossover_rate[0]\n",
    "    F = Mutation_rate[0]\n",
    "    CR = Crossover_rate[0]\n",
    "    for generation in range(max_generations):\n",
    "        # print(f'Iteration {generation}')\n",
    "        current_cost = np.array([])\n",
    "        F += (Upperbound_Mutation - Lowerbound_Mutation) / max_generations\n",
    "        CR += (Upperbound_Crossover_rate - Lowerbound_Crossover_rate) / max_generations\n",
    "        for i in range(population_size):\n",
    "            # Mutation\n",
    "            indices = [idx for idx in range(population_size) if idx != i]\n",
    "            a, b, c = population[np.random.choice(indices, 3, replace=False)]\n",
    "            mutant = population[i] + F * (b - c)\n",
    "\n",
    "            # Crossover\n",
    "            crossover_prob = np.random.rand(len(bounds))\n",
    "            trial = np.where(crossover_prob < CR, mutant, population[i])\n",
    "\n",
    "            # Selection\n",
    "            fitness_trial = objective_func(trial, **kwargs)\n",
    "            fitness_current = objective_func(population[i], **kwargs)\n",
    "\n",
    "            if fitness_trial < fitness_current:\n",
    "                population[i] = trial\n",
    "                current_cost = np.insert(current_cost, len(current_cost), fitness_trial)\n",
    "            else:\n",
    "                current_cost = np.insert(\n",
    "                    current_cost, len(current_cost), fitness_current\n",
    "                )\n",
    "            print(f\"population {i}\")\n",
    "            print(f\"current_cost{current_cost}\")\n",
    "            print(\"---------\" * 30)\n",
    "        best_index_plot = current_cost[np.argmin(current_cost)]\n",
    "        global_solution = np.insert(\n",
    "            global_solution, len(global_solution), best_index_plot\n",
    "        )\n",
    "\n",
    "    # Find the best solution\n",
    "    best_index = np.argmin(\n",
    "        [objective_func(individual, **kwargs) for individual in population]\n",
    "    )\n",
    "    best_solution = population[best_index]\n",
    "\n",
    "    return best_solution, global_solution"
   ]
  },
  {
   "cell_type": "markdown",
   "id": "e1378d0e",
   "metadata": {},
   "source": [
    "# Objective Function Evolution\n"
   ]
  },
  {
   "cell_type": "code",
   "execution_count": null,
   "id": "bfa3f660",
   "metadata": {},
   "outputs": [],
   "source": [
    "def objective_func(x, **kwargs):\n",
    "    \"\"\"Decoding of each particles for obtaining routing solutions by argsort()\"\"\"\n",
    "    seq = x.argsort() + 1\n",
    "    \"\"\"Calculate objective function for obtaining objective value of each particle\"\"\"\n",
    "    j = f_per_particle(seq, **kwargs)\n",
    "    return np.array(j)\n",
    "\n",
    "\n",
    "def f_per_particle(m, **kwargs):\n",
    "    X = m  # Sequence\n",
    "    obj_val = preserving_strategy(X, **kwargs)  # Call Preserving strategy.\n",
    "    return obj_val\n",
    "\n",
    "\n",
    "def preserving_strategy(X, **kwargs):\n",
    "    # distance matrix\n",
    "    distance = kwargs[\"distance\"]\n",
    "    # total distance starts from zero km.\n",
    "    total_distance = 0\n",
    "    # Vehicle travel from depot to customer i\n",
    "    total_distance += distance[0][X[0]]\n",
    "    # Total distance of routing solution\n",
    "    for i in range(len(X) - 1):\n",
    "        total_distance += distance[X[i]][X[i + 1]]\n",
    "    # Vehicle returns to depot\n",
    "    total_distance += distance[X[-1]][0]\n",
    "    # Return total distance (km.) that vehicle traveled\n",
    "    return total_distance"
   ]
  },
  {
   "cell_type": "markdown",
   "id": "c21bf206",
   "metadata": {},
   "source": [
    "# Finding Solution\n"
   ]
  },
  {
   "cell_type": "code",
   "execution_count": null,
   "id": "ff465db3",
   "metadata": {},
   "outputs": [],
   "source": [
    "start_algorithm = time.time()\n",
    "best_solution, global_solution_plot = differential_evolution(\n",
    "    objective_func,\n",
    "    bounds=bounds,\n",
    "    population_size=n_pop,\n",
    "    max_generations=maxiters,\n",
    "    Mutation_rate=Mutation_rate,\n",
    "    Crossover_rate=Crossover_rate,\n",
    "    **kwargs,\n",
    ")\n",
    "End_algorithm = time.time()\n",
    "run_algorithm = End_algorithm - start_algorithm"
   ]
  },
  {
   "cell_type": "markdown",
   "id": "902788a5",
   "metadata": {},
   "source": [
    "# Solution\n"
   ]
  },
  {
   "cell_type": "code",
   "execution_count": null,
   "id": "6771f092",
   "metadata": {},
   "outputs": [],
   "source": [
    "best_solution"
   ]
  },
  {
   "cell_type": "code",
   "execution_count": null,
   "id": "7c9a11bf",
   "metadata": {},
   "outputs": [],
   "source": [
    "routing = best_solution.argsort() + 1\n",
    "routing = np.insert(routing, len(routing), 0)\n",
    "routing = np.insert(routing, 0, 0)\n",
    "print(f\" Routing: {routing}\")"
   ]
  },
  {
   "cell_type": "code",
   "execution_count": null,
   "id": "d5845446",
   "metadata": {},
   "outputs": [],
   "source": [
    "print(f\" Total distance {preserving_strategy(routing, **kwargs)} KM.\")"
   ]
  },
  {
   "cell_type": "code",
   "execution_count": null,
   "id": "e20015ca",
   "metadata": {},
   "outputs": [],
   "source": [
    "Replication = [i for i in range(len(global_solution_plot))]\n",
    "y1 = global_solution_plot.tolist()\n",
    "fig, ax = plt.subplots(1, figsize=(10, 5))\n",
    "ax.plot(Replication, y1, marker=\".\", label=\"Differential Evoluation Algorithm\")\n",
    "ax.set(\n",
    "    xlabel=\"iteration\",\n",
    "    ylabel=\"Transportation Cost (Baht)\",\n",
    "    title=\"Differential Evoluation Algorithm Replication\",\n",
    ")\n",
    "ax.grid()\n",
    "ax.legend()\n",
    "plt.show()"
   ]
  }
 ],
 "metadata": {
  "kernelspec": {
   "display_name": "rl-meta-test (3.10.18)",
   "language": "python",
   "name": "python3"
  },
  "language_info": {
   "codemirror_mode": {
    "name": "ipython",
    "version": 3
   },
   "file_extension": ".py",
   "mimetype": "text/x-python",
   "name": "python",
   "nbconvert_exporter": "python",
   "pygments_lexer": "ipython3",
   "version": "3.10.18"
  }
 },
 "nbformat": 4,
 "nbformat_minor": 5
}
