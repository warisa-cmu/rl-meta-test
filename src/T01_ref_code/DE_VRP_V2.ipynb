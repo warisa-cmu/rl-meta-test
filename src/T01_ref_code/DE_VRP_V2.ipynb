{
 "cells": [
  {
   "cell_type": "markdown",
   "id": "88e5a2f6",
   "metadata": {},
   "source": [
    "# Import Library\n"
   ]
  },
  {
   "cell_type": "code",
   "execution_count": 49,
   "id": "d5a88505",
   "metadata": {},
   "outputs": [],
   "source": [
    "import numpy as np\n",
    "import pandas as pd\n",
    "import matplotlib.pyplot as plt\n",
    "import time"
   ]
  },
  {
   "cell_type": "markdown",
   "id": "d3d99147",
   "metadata": {},
   "source": [
    "### Distance matrix (8 nodes)"
   ]
  },
  {
   "cell_type": "code",
   "execution_count": null,
   "id": "23106975",
   "metadata": {},
   "outputs": [],
   "source": [
    "# Distance matrix\n",
    "distance = np.array(\n",
    "    [\n",
    "        [0, 0.664, 1.035, 1.789, 4.854, 7.586, 11.425, 11.871],\n",
    "        [4.857, 0, 0.852, 1.606, 4.671, 7.403, 11.242, 11.688],\n",
    "        [4.004, 4.23, 0, 0.753, 3.818, 6.55, 10.389, 10.835],\n",
    "        [5.857, 6.083, 6.454, 0, 3.064, 5.796, 9.635, 10.081],\n",
    "        [7.267, 7.493, 7.864, 4.066, 0, 2.934, 6.698, 7.144],\n",
    "        [10.704, 10.93, 11.301, 7.503, 3.68, 0, 5.619, 6.065],\n",
    "        [13.475, 13.701, 14.072, 10.274, 6.451, 5.409, 0, 0.943],\n",
    "        [15.079, 15.305, 15.676, 11.878, 8.055, 7.013, 1.603, 0],\n",
    "    ]\n",
    ")\n",
    "vehicle_price = np.array([100])\n",
    "\n",
    "\n",
    "kwargs = {\"distance\": distance, \"vehicle_price\": vehicle_price}\n"
   ]
  },
  {
   "cell_type": "markdown",
   "id": "ef10cf32",
   "metadata": {},
   "source": [
    "# Differential Evolutional Algorithm Parameters"
   ]
  },
  {
   "cell_type": "code",
   "execution_count": 51,
   "id": "b5320923",
   "metadata": {},
   "outputs": [],
   "source": [
    "dimensions = (len(distance) - 1) * 2\n",
    "maxiters = 100\n",
    "n_pop = 100\n",
    "bounds = np.array([[0, 1]] * dimensions)\n",
    "Mutation_rate = np.array([0.9, 0.5])\n",
    "Crossover_rate = np.array([0.5, 0.1])\n"
   ]
  },
  {
   "cell_type": "markdown",
   "id": "9a2a1906",
   "metadata": {},
   "source": [
    "# Differential Evolutional Algorithm\n"
   ]
  },
  {
   "cell_type": "code",
   "execution_count": 52,
   "id": "a40e05b2",
   "metadata": {},
   "outputs": [],
   "source": [
    "def differential_evolution(\n",
    "    objective_func,\n",
    "    bounds,\n",
    "    population_size=n_pop,\n",
    "    max_generations=maxiters,\n",
    "    Mutation_rate=Mutation_rate,\n",
    "    Crossover_rate=Crossover_rate,\n",
    "    **kwargs,\n",
    "):\n",
    "    # Initialize population\n",
    "    population = np.random.uniform(\n",
    "        bounds[:, 0], bounds[:, 1], (population_size, len(bounds))\n",
    "    )\n",
    "    global_solution = np.array([])\n",
    "    Upperbound_Mutation = Mutation_rate[1]\n",
    "    Lowerbound_Mutation = Mutation_rate[0]\n",
    "    Upperbound_Crossover_rate = Crossover_rate[1]\n",
    "    Lowerbound_Crossover_rate = Crossover_rate[0]\n",
    "    F = Mutation_rate[0]\n",
    "    CR = Crossover_rate[0]\n",
    "    for generation in range(max_generations):\n",
    "        # print(f'Iteration {generation}')\n",
    "        current_cost = np.array([])\n",
    "        F += (Upperbound_Mutation - Lowerbound_Mutation) / max_generations\n",
    "        CR += (Upperbound_Crossover_rate - Lowerbound_Crossover_rate) / max_generations\n",
    "        for i in range(population_size):\n",
    "            # Mutation\n",
    "            indices = [idx for idx in range(population_size) if idx != i]\n",
    "            a, b, c = population[np.random.choice(indices, 3, replace=False)]\n",
    "            mutant = population[i] + F * (b - c)\n",
    "\n",
    "            # Crossover\n",
    "            crossover_prob = np.random.rand(len(bounds))\n",
    "            trial = np.where(crossover_prob < CR, mutant, population[i])\n",
    "\n",
    "            # Selection\n",
    "            fitness_trial = objective_func(trial, **kwargs)\n",
    "            fitness_current = objective_func(population[i], **kwargs)\n",
    "\n",
    "            if fitness_trial < fitness_current:\n",
    "                population[i] = trial\n",
    "                current_cost = np.insert(current_cost, len(current_cost), fitness_trial)\n",
    "            else:\n",
    "                current_cost = np.insert(\n",
    "                    current_cost, len(current_cost), fitness_current\n",
    "                )\n",
    "\n",
    "        best_index_plot = current_cost[np.argmin(current_cost)]\n",
    "        global_solution = np.insert(\n",
    "            global_solution, len(global_solution), best_index_plot\n",
    "        )\n",
    "\n",
    "    # Find the best solution\n",
    "    best_index = np.argmin(\n",
    "        [objective_func(individual, **kwargs) for individual in population]\n",
    "    )\n",
    "    best_solution = population[best_index]\n",
    "\n",
    "    return best_solution, global_solution"
   ]
  },
  {
   "cell_type": "markdown",
   "id": "9dbc0da0",
   "metadata": {},
   "source": [
    "# Objective Function Evolution"
   ]
  },
  {
   "cell_type": "code",
   "execution_count": 53,
   "id": "14418637",
   "metadata": {},
   "outputs": [],
   "source": [
    "def objective_func(x, **kwargs):\n",
    "    # Decode vector x into customer sequence and vehicle assignment\n",
    "    distance = kwargs[\"distance\"]\n",
    "    vehicle_price = kwargs[\"vehicle_price\"]\n",
    "    seq = (\n",
    "        x[: len(distance) - 1].argsort() + 1\n",
    "    )  # Sequence of customers to visit, using argsort\n",
    "    veh = np.clip(\n",
    "        (x[len(distance) - 1 :] * len(vehicle_price)).astype(int),\n",
    "        0,\n",
    "        len(vehicle_price) - 1,\n",
    "    )  # Vehicle index for each customer, clipped to valid range\n",
    "    return np.array(\n",
    "        f_per_particle(seq, veh, **kwargs)\n",
    "    )  # Calculate and return objective value\n",
    "\n",
    "\n",
    "def f_per_particle(seq, veh, **kwargs):\n",
    "    # Evaluate objective value for a given sequence and vehicle assignment\n",
    "    return preserving_strategy(seq, veh, **kwargs)\n",
    "\n",
    "\n",
    "def preserving_strategy(seq, veh, **kwargs):\n",
    "    # Calculate the total transportation cost for all vehicles\n",
    "    distance = kwargs[\"distance\"]\n",
    "    vehicle_price = kwargs[\"vehicle_price\"]\n",
    "    total_cost = 0\n",
    "    for v in np.unique(veh):  # Loop through each used vehicle\n",
    "        route = seq[veh == v]  # Customers assigned to vehicle v\n",
    "        if len(route) == 0:\n",
    "            continue  # Skip if vehicle is not used\n",
    "        # Calculate travel distance: depot->first customer + between customers + last customer->depot\n",
    "        dist = (\n",
    "            distance[0][route[0]]\n",
    "            + sum(distance[route[i]][route[i + 1]] for i in range(len(route) - 1))\n",
    "            + distance[route[-1]][0]\n",
    "        )\n",
    "        total_cost += (\n",
    "            dist + vehicle_price[v]\n",
    "        )  # Add travel distance and vehicle fixed cost\n",
    "    return total_cost  # Return total cost for this solution"
   ]
  },
  {
   "cell_type": "markdown",
   "id": "54de0315",
   "metadata": {},
   "source": [
    "# Finding Solution\n"
   ]
  },
  {
   "cell_type": "code",
   "execution_count": 54,
   "id": "ed3ad52b",
   "metadata": {},
   "outputs": [],
   "source": [
    "start_algorithm = time.time()\n",
    "best_solution, global_solution_plot = differential_evolution(\n",
    "    objective_func,\n",
    "    bounds=bounds,\n",
    "    population_size=n_pop,\n",
    "    max_generations=maxiters,\n",
    "    Mutation_rate=Mutation_rate,\n",
    "    Crossover_rate=Crossover_rate,\n",
    "    **kwargs,\n",
    ")\n",
    "End_algorithm = time.time()\n",
    "run_algorithm = End_algorithm - start_algorithm"
   ]
  },
  {
   "cell_type": "markdown",
   "id": "83eaaca3",
   "metadata": {},
   "source": [
    "# Solution\n"
   ]
  },
  {
   "cell_type": "code",
   "execution_count": 55,
   "id": "93664963",
   "metadata": {},
   "outputs": [
    {
     "data": {
      "text/plain": [
       "array([-9.29557837, -4.17992652, -2.78476532, -1.45991894,  0.1035083 ,\n",
       "        1.06826733,  0.67035221,  7.16416859,  5.89950085,  6.81942234,\n",
       "        9.81931304,  1.13282709,  0.73383489,  4.52838429])"
      ]
     },
     "execution_count": 55,
     "metadata": {},
     "output_type": "execute_result"
    }
   ],
   "source": [
    "best_solution"
   ]
  },
  {
   "cell_type": "code",
   "execution_count": 56,
   "id": "8c4cad13",
   "metadata": {},
   "outputs": [],
   "source": [
    "routing = best_solution[: (len(distance) - 1)].argsort() + 1\n",
    "vehicle_selection = np.clip(\n",
    "    (best_solution[len(distance) - 1 :] * len(vehicle_price)).astype(int),\n",
    "    0,\n",
    "    len(vehicle_price) - 1,\n",
    ")"
   ]
  },
  {
   "cell_type": "code",
   "execution_count": 57,
   "id": "7b9997d6",
   "metadata": {},
   "outputs": [
    {
     "data": {
      "text/plain": [
       "array([1, 2, 3, 4, 5, 7, 6])"
      ]
     },
     "execution_count": 57,
     "metadata": {},
     "output_type": "execute_result"
    }
   ],
   "source": [
    "routing"
   ]
  },
  {
   "cell_type": "code",
   "execution_count": 58,
   "id": "32da264c",
   "metadata": {},
   "outputs": [
    {
     "data": {
      "text/plain": [
       "array([2, 2, 2, 2, 2, 2, 2])"
      ]
     },
     "execution_count": 58,
     "metadata": {},
     "output_type": "execute_result"
    }
   ],
   "source": [
    "vehicle_selection"
   ]
  },
  {
   "cell_type": "code",
   "execution_count": 59,
   "id": "1825db75",
   "metadata": {},
   "outputs": [
    {
     "name": "stdout",
     "output_type": "stream",
     "text": [
      " Routing of Vehicle 2 : [0 1 2 3 4 5 7 6 0]\n",
      "Total distance : 129.41\n"
     ]
    }
   ],
   "source": [
    "unique_vehicles = np.unique(vehicle_selection)\n",
    "\n",
    "for v in unique_vehicles:\n",
    "    route = routing[vehicle_selection == v]\n",
    "    route = np.insert(route, len(route), 0)\n",
    "    route = np.insert(route, 0, 0)\n",
    "    print(f\" Routing of Vehicle {v} : {route}\")\n",
    "print(f\"Total distance : {preserving_strategy(routing, vehicle_selection, **kwargs)}\")"
   ]
  },
  {
   "cell_type": "code",
   "execution_count": 60,
   "id": "b215227e",
   "metadata": {},
   "outputs": [
    {
     "data": {
      "image/png": "[encoded data removed]",
      "text/plain": [
       "<Figure size 1000x500 with 1 Axes>"
      ]
     },
     "metadata": {},
     "output_type": "display_data"
    }
   ],
   "source": [
    "Replication = [i for i in range(len(global_solution_plot))]\n",
    "y1 = global_solution_plot.tolist()\n",
    "fig, ax = plt.subplots(1, figsize=(10, 5))\n",
    "ax.plot(Replication, y1, marker=\".\", label=\"Differential Evoluation Algorithm\")\n",
    "ax.set(\n",
    "    xlabel=\"iteration\",\n",
    "    ylabel=\"Total Distance (Km.)\",\n",
    "    title=\"Differential Evoluation Algorithm Replication\",\n",
    ")\n",
    "ax.grid()\n",
    "ax.legend()\n",
    "plt.show()"
   ]
  }
 ],
 "metadata": {
  "kernelspec": {
   "display_name": "rl-meta-test (3.12.10)",
   "language": "python",
   "name": "python3"
  },
  "language_info": {
   "codemirror_mode": {
    "name": "ipython",
    "version": 3
   },
   "file_extension": ".py",
   "mimetype": "text/x-python",
   "name": "python",
   "nbconvert_exporter": "python",
   "pygments_lexer": "ipython3",
   "version": "3.12.10"
  }
 },
 "nbformat": 4,
 "nbformat_minor": 5
}
