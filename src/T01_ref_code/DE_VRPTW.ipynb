{
 "cells": [
  {
   "cell_type": "markdown",
   "id": "657c61b1",
   "metadata": {},
   "source": [
    "# Import Library\n"
   ]
  },
  {
   "cell_type": "code",
   "execution_count": 1,
   "id": "2e3db8ab",
   "metadata": {},
   "outputs": [],
   "source": [
    "import numpy as np\n",
    "import pandas as pd\n",
    "import matplotlib.pyplot as plt\n",
    "import time"
   ]
  },
  {
   "cell_type": "markdown",
   "id": "ec3d2757",
   "metadata": {},
   "source": [
    "# Euclidean distance function"
   ]
  },
  {
   "cell_type": "code",
   "execution_count": 2,
   "id": "18cc7986",
   "metadata": {},
   "outputs": [
    {
     "name": "stdout",
     "output_type": "stream",
     "text": [
      "[[0.         3.60555128 3.16227766 7.07106781]\n",
      " [3.60555128 0.         2.23606798 3.60555128]\n",
      " [3.16227766 2.23606798 0.         4.47213595]\n",
      " [7.07106781 3.60555128 4.47213595 0.        ]]\n"
     ]
    }
   ],
   "source": [
    "def compute_euclidean_distance_matrix(locations):\n",
    "    \"\"\"\n",
    "    Compute Euclidean distance matrix for a list of locations.\n",
    "    Args:\n",
    "        locations: numpy array or list of shape (N, 2), with [x, y] coordinates for each node (depot + customers)\n",
    "    Returns:\n",
    "        distance_matrix: numpy array of shape (N, N) where (i, j) is the distance between node i and j\n",
    "    \"\"\"\n",
    "    locations = np.array(locations)\n",
    "    diff = locations[:, np.newaxis, :] - locations[np.newaxis, :, :]\n",
    "    distance_matrix = np.sqrt(np.sum(diff**2, axis=-1))\n",
    "    return distance_matrix\n",
    "\n",
    "\n",
    "# Example usage:\n",
    "# Suppose depot at (0,0), customer1 at (2,3), customer2 at (3,1), customer3 at (5,5)\n",
    "locations = [\n",
    "    [0, 0],  # Depot\n",
    "    [2, 3],  # Customer 1\n",
    "    [3, 1],  # Customer 2\n",
    "    [5, 5],  # Customer 3\n",
    "]\n",
    "dist_matrix = compute_euclidean_distance_matrix(locations)\n",
    "print(dist_matrix)"
   ]
  },
  {
   "cell_type": "markdown",
   "id": "74bf4755",
   "metadata": {},
   "source": [
    "# Import Data"
   ]
  },
  {
   "cell_type": "code",
   "execution_count": 3,
   "id": "db37178e",
   "metadata": {},
   "outputs": [],
   "source": [
    "# Load CSV files\n",
    "df_customers = pd.read_excel(\n",
    "    r\"C:\\rl-meta-test\\src\\Source\\Solomon datasets\\c101.xlsx\", sheet_name=\"customer\"\n",
    ")\n",
    "df_dataInfo = pd.read_excel(\n",
    "    r\"C:\\rl-meta-test\\src\\Source\\Solomon datasets\\c101.xlsx\", sheet_name=\"vehicle\"\n",
    ")"
   ]
  },
  {
   "cell_type": "markdown",
   "id": "fd73be19",
   "metadata": {},
   "source": [
    "# Data Preparation"
   ]
  },
  {
   "cell_type": "code",
   "execution_count": 4,
   "id": "b7d0c19b",
   "metadata": {},
   "outputs": [],
   "source": [
    "Customer_25 = 10\n",
    "# Extract coordinates (x, y) of customers (including depot) and convert to NumPy array\n",
    "xycoord = df_customers.iloc[:Customer_25, 1:3].to_numpy()\n",
    "distance = compute_euclidean_distance_matrix(xycoord)  # Calculate distance\n",
    "# distance = pd.read_csv(\n",
    "#    r\"C:\\rl-meta-test\\src\\Source\\solomon_data\\solomon25_csv\\distance_matrix\\c101distanceMatrix.csv\"\n",
    "# ).to_numpy()\n",
    "\n",
    "\n",
    "# Extract demand for each customer as NumPy array\n",
    "demand = df_customers.iloc[:Customer_25, 3].to_numpy()\n",
    "\n",
    "# Extract 'ready time' (earliest time service can begin at each customer)\n",
    "readyTime = df_customers.iloc[:Customer_25, 4].to_numpy()\n",
    "\n",
    "# Extract 'due date' (latest time service must begin at each customer)\n",
    "dueDate = df_customers.iloc[:Customer_25, 5].to_numpy()\n",
    "\n",
    "# Extract service time required at each customer\n",
    "serviceTime = df_customers.iloc[:Customer_25, 6].to_numpy()\n",
    "\n",
    "# Extract vehicle information (such as capacity, number of vehicles, etc.) from the first row of df_dataInfo\n",
    "vehicle = df_dataInfo.iloc[0, :].to_numpy()\n",
    "\n",
    "kwargs = {\n",
    "    \"distance\": distance,\n",
    "    \"demand\": demand,\n",
    "    \"readyTime\": readyTime,\n",
    "    \"dueDate\": dueDate,\n",
    "    \"serviceTime\": serviceTime,\n",
    "    \"vehicle\": vehicle,\n",
    "}\n"
   ]
  },
  {
   "cell_type": "code",
   "execution_count": 5,
   "id": "77e8c441",
   "metadata": {},
   "outputs": [
    {
     "data": {
      "text/plain": [
       "array([[ 0.        , 18.68154169, 20.61552813, 16.1245155 , 18.11077028,\n",
       "        15.13274595, 19.        , 16.        , 18.11077028, 20.09975124],\n",
       "       [18.68154169,  0.        ,  2.        ,  3.60555128,  3.        ,\n",
       "         4.24264069,  5.09901951,  5.38516481,  7.        ,  7.28010989],\n",
       "       [20.61552813,  2.        ,  0.        ,  5.        ,  3.60555128,\n",
       "         5.83095189,  5.09901951,  6.40312424,  7.28010989,  7.        ],\n",
       "       [16.1245155 ,  3.60555128,  5.        ,  0.        ,  2.        ,\n",
       "         1.        ,  3.60555128,  2.        ,  4.47213595,  5.65685425],\n",
       "       [18.11077028,  3.        ,  3.60555128,  2.        ,  0.        ,\n",
       "         3.        ,  2.23606798,  2.82842712,  4.        ,  4.47213595],\n",
       "       [15.13274595,  4.24264069,  5.83095189,  1.        ,  3.        ,\n",
       "         0.        ,  4.47213595,  2.23606798,  5.        ,  6.40312424],\n",
       "       [19.        ,  5.09901951,  5.09901951,  3.60555128,  2.23606798,\n",
       "         4.47213595,  0.        ,  3.        ,  2.23606798,  2.23606798],\n",
       "       [16.        ,  5.38516481,  6.40312424,  2.        ,  2.82842712,\n",
       "         2.23606798,  3.        ,  0.        ,  2.82842712,  4.47213595],\n",
       "       [18.11077028,  7.        ,  7.28010989,  4.47213595,  4.        ,\n",
       "         5.        ,  2.23606798,  2.82842712,  0.        ,  2.        ],\n",
       "       [20.09975124,  7.28010989,  7.        ,  5.65685425,  4.47213595,\n",
       "         6.40312424,  2.23606798,  4.47213595,  2.        ,  0.        ]])"
      ]
     },
     "execution_count": 5,
     "metadata": {},
     "output_type": "execute_result"
    }
   ],
   "source": [
    "distance"
   ]
  },
  {
   "cell_type": "markdown",
   "id": "eeed0a60",
   "metadata": {},
   "source": [
    "# Differential Evolutional Algorithm Parameters"
   ]
  },
  {
   "cell_type": "code",
   "execution_count": 6,
   "id": "e02dce3f",
   "metadata": {},
   "outputs": [],
   "source": [
    "dimensions = len(distance) - 1 + vehicle[0]\n",
    "maxiters = 1000\n",
    "n_pop = 100\n",
    "bounds = np.array([[0, 1]] * dimensions)\n",
    "Mutation_rate = np.array([0.9, 0.5])\n",
    "Crossover_rate = np.array([0.5, 0.1])"
   ]
  },
  {
   "cell_type": "markdown",
   "id": "01474405",
   "metadata": {},
   "source": [
    "# Differential Evolutional Algorithm\n"
   ]
  },
  {
   "cell_type": "code",
   "execution_count": 7,
   "id": "6be63f21",
   "metadata": {},
   "outputs": [],
   "source": [
    "def differential_evolution(\n",
    "    objective_func,\n",
    "    bounds,\n",
    "    population_size=n_pop,\n",
    "    max_generations=maxiters,\n",
    "    Mutation_rate=Mutation_rate,\n",
    "    Crossover_rate=Crossover_rate,\n",
    "    **kwargs,\n",
    "):\n",
    "    # Initialize population\n",
    "    population = np.random.uniform(\n",
    "        bounds[:, 0], bounds[:, 1], (population_size, len(bounds))\n",
    "    )\n",
    "    global_solution = np.array([])\n",
    "    Upperbound_Mutation = Mutation_rate[1]\n",
    "    Lowerbound_Mutation = Mutation_rate[0]\n",
    "    Upperbound_Crossover_rate = Crossover_rate[1]\n",
    "    Lowerbound_Crossover_rate = Crossover_rate[0]\n",
    "    F = Mutation_rate[0]\n",
    "    CR = Crossover_rate[0]\n",
    "\n",
    "    for generation in range(max_generations):\n",
    "        # print(f'Iteration {generation}')\n",
    "        current_cost = np.array([])\n",
    "        F += (Upperbound_Mutation - Lowerbound_Mutation) / max_generations\n",
    "        CR += (Upperbound_Crossover_rate - Lowerbound_Crossover_rate) / max_generations\n",
    "        for i in range(population_size):\n",
    "            # Mutation\n",
    "            indices = [idx for idx in range(population_size) if idx != i]\n",
    "            a, b, c = population[np.random.choice(indices, 3, replace=False)]\n",
    "            mutant = population[i] + F * (b - c)\n",
    "\n",
    "            # Crossover\n",
    "            crossover_prob = np.random.rand(len(bounds))\n",
    "            trial = np.where(crossover_prob < CR, mutant, population[i])\n",
    "\n",
    "            # Selection\n",
    "            fitness_trial = objective_func(trial, **kwargs)\n",
    "            fitness_current = objective_func(population[i], **kwargs)\n",
    "\n",
    "            if fitness_trial < fitness_current:\n",
    "                population[i] = trial\n",
    "                current_cost = np.insert(current_cost, len(current_cost), fitness_trial)\n",
    "            else:\n",
    "                current_cost = np.insert(\n",
    "                    current_cost, len(current_cost), fitness_current\n",
    "                )\n",
    "\n",
    "        best_index_plot = current_cost[np.argmin(current_cost)]\n",
    "        global_solution = np.insert(\n",
    "            global_solution, len(global_solution), best_index_plot\n",
    "        )\n",
    "\n",
    "    # Find the best solution\n",
    "    best_index = np.argmin(\n",
    "        [objective_func(individual, **kwargs) for individual in population]\n",
    "    )\n",
    "    best_solution = population[best_index]\n",
    "\n",
    "    return best_solution, global_solution"
   ]
  },
  {
   "cell_type": "markdown",
   "id": "cca1403f",
   "metadata": {},
   "source": [
    "# Decoding"
   ]
  },
  {
   "cell_type": "code",
   "execution_count": 8,
   "id": "38c3df76",
   "metadata": {},
   "outputs": [],
   "source": [
    "def objective_func(x, **kwargs):\n",
    "    vehicle = kwargs[\"vehicle\"]\n",
    "    seq = x[: -vehicle[0]].argsort() + 1\n",
    "    sort = x[-vehicle[0] :].argsort()\n",
    "    j = f_per_particle(\n",
    "        seq, sort, **kwargs\n",
    "    )  # [f_per_particle1(x[i], sort[i], i, **kwargs) if i <= 2 else f_per_particle(x[i], sort[i], **kwargs) for i in range(n_particles)]        # Calculate each particle.\n",
    "    return np.array(j)\n",
    "\n",
    "\n",
    "def f_per_particle(m, s, **kwargs):\n",
    "    X = m  # Sequence\n",
    "    V = s  # Vehicle\n",
    "    obj_val = preserving_strategy(X, V, **kwargs)  # Call Preserving strategy.\n",
    "    return obj_val\n",
    "\n",
    "def preserving_strategy(X, V, **kwargs):\n",
    "    # --- Unpack input data from keyword arguments ---\n",
    "    dist = kwargs[\"distance\"]            # Distance/time matrix between all nodes\n",
    "    weight = kwargs[\"demand\"]            # Demand (weight) for each customer node\n",
    "    ready = kwargs[\"readyTime\"]          # Ready time (earliest service time) for each node\n",
    "    due = kwargs[\"dueDate\"]              # Due time (latest service time) for each node\n",
    "    service = kwargs[\"serviceTime\"]      # Service time at each node\n",
    "    vehicle = kwargs[\"vehicle\"]          # Vehicle info: [number of vehicles, capacity per vehicle]\n",
    "    # Get per-vehicle capacities (by indexing with V)\n",
    "    pre_w_cap = np.array([vehicle[1]] * vehicle[0])\n",
    "    w_cap = pre_w_cap[V]\n",
    "\n",
    "    # -- Initialization --\n",
    "    sequence = X                        # Route sequence (includes depot at start & end)\n",
    "    n_cust = len(sequence) - 2          # Number of customers (not counting depot nodes)\n",
    "    n_veh = vehicle[0] - 1              # Number of vehicles - 1 (for indexing)\n",
    "    i, k = 0, 0                         # i: current position in sequence, k: vehicle index\n",
    "    total_distance = 0                  # Store total traveled distance (with penalty if any)\n",
    "\n",
    "    # -- Main loop over each vehicle route --\n",
    "    while k <= n_veh and i <= n_cust:\n",
    "        # Initialize per-route accumulators\n",
    "        route_dist, route_time, weight_load, penaltyCost = 0, 0, 0, 0\n",
    "\n",
    "        if k > 0:\n",
    "            i += 1   # Move to the next start customer for the next vehicle\n",
    "        # Start route: depot to first customer\n",
    "        route_dist += dist[0][sequence[i]]                           # Distance depot -> first customer\n",
    "        route_time += service[0] + dist[0][sequence[i]]              # Service + travel time to first customer\n",
    "        weight_load += weight[sequence[i]]                           # Initial cargo: first customer demand\n",
    "\n",
    "        if route_time < ready[sequence[i]]:\n",
    "            route_time = ready[sequence[i]]  # Wait if vehicle arrives before ready time\n",
    "\n",
    "        if route_time > due[sequence[i]]:\n",
    "            penaltyCost += 1e11              # Penalty: arrived after due time (infeasible)\n",
    "            break\n",
    "\n",
    "        # --- Continue visiting customers along this route ---\n",
    "        while i <= n_cust:\n",
    "            route_dist += dist[sequence[i]][sequence[i + 1]]                       # Add next leg distance\n",
    "            route_time += service[sequence[i]] + dist[sequence[i]][sequence[i + 1]] # Add service + travel time\n",
    "            weight_load += weight[sequence[i + 1]]                                 # Add new customer demand\n",
    "\n",
    "            if route_time < ready[sequence[i+1]]:\n",
    "                route_time = ready[sequence[i+1]]  # Wait if arrive early at next node\n",
    "\n",
    "            # If time window or capacity violated, backtrack and finish route\n",
    "            if route_time > due[sequence[i+1]] or weight_load > w_cap[k]:\n",
    "                route_dist -= dist[sequence[i]][sequence[i + 1]]\n",
    "                route_time -= service[sequence[i]] + dist[sequence[i]][sequence[i + 1]]\n",
    "                weight_load -= weight[sequence[i + 1]]\n",
    "                break\n",
    "            i += 1\n",
    "\n",
    "        # --- Finish by returning to depot ---\n",
    "        route_dist += dist[sequence[i]][0]                    # Add distance to depot\n",
    "        route_time += service[sequence[i]] + dist[sequence[i]][0]  # Add service at last node + travel to depot\n",
    "        if route_time > due[0]: \n",
    "            penaltyCost += 1e11                               # Penalty: returned to depot too late\n",
    "        # Accumulate this route's total (distance + penalty if any)\n",
    "        total_distance += route_dist + penaltyCost\n",
    "        #print(f'Total weight {weight_load} km.')\n",
    "        #print(f'Traveling time {route_time} mins.')\n",
    "        #print(f'Total traveling distance {route_dist} km.')\n",
    "        k += 1                                                # Next vehicle\n",
    "\n",
    "    return total_distance                                     # Return overall objective (distance with penalty if violated)\n"
   ]
  },
  {
   "cell_type": "markdown",
   "id": "0d941070",
   "metadata": {},
   "source": [
    "# Finding Solution\n"
   ]
  },
  {
   "cell_type": "code",
   "execution_count": 10,
   "id": "5101be87",
   "metadata": {},
   "outputs": [],
   "source": [
    "start_algorithm = time.time()\n",
    "best_solution, global_solution_plot = differential_evolution(\n",
    "    objective_func,\n",
    "    bounds=bounds,\n",
    "    population_size=n_pop,\n",
    "    max_generations=maxiters,\n",
    "    Mutation_rate=Mutation_rate,\n",
    "    Crossover_rate=Crossover_rate,\n",
    "    **kwargs,\n",
    ")\n",
    "End_algorithm = time.time()\n",
    "run_algorithm = End_algorithm - start_algorithm"
   ]
  },
  {
   "cell_type": "markdown",
   "id": "570a595c",
   "metadata": {},
   "source": [
    "# Report"
   ]
  },
  {
   "cell_type": "code",
   "execution_count": 11,
   "id": "535c16ac",
   "metadata": {},
   "outputs": [],
   "source": [
    "def show_preserving_solution(X, V, **kwargs):\n",
    "    import numpy as np\n",
    "\n",
    "    dist = kwargs[\"distance\"]\n",
    "    weight = kwargs[\"demand\"]\n",
    "    ready = kwargs[\"readyTime\"]\n",
    "    due = kwargs[\"dueDate\"]\n",
    "    service = kwargs[\"serviceTime\"]\n",
    "    vehicle = kwargs[\"vehicle\"]\n",
    "    pre_w_cap = np.array([vehicle[1]] * vehicle[0])\n",
    "    w_cap = pre_w_cap[V]\n",
    "    \n",
    "    sequence = list(X)\n",
    "    \n",
    "    # --- Split routes by '0' (depot node) for each vehicle ---\n",
    "    routes = []\n",
    "    route = []\n",
    "    for node in sequence:\n",
    "        if node == 0:\n",
    "            if route:\n",
    "                routes.append([0] + route + [0])\n",
    "                route = []\n",
    "        else:\n",
    "            route.append(node)\n",
    "    if route:  # In case last route has no final depot\n",
    "        routes.append([0] + route + [0])\n",
    "\n",
    "    total_distance = 0\n",
    "    total_time = 0\n",
    "    max_loading = 0\n",
    "\n",
    "    for k, route_nodes in enumerate(routes):\n",
    "        # Prepare for print\n",
    "        loading_list = [0]      # At depot: load = 0\n",
    "        visited_time = [0]      # time at depot = 0\n",
    "        distance_list = [0]\n",
    "        \n",
    "        feasible = True\n",
    "\n",
    "        route_dist = 0\n",
    "        route_time = 0\n",
    "        weight_load = 0\n",
    "        \n",
    "        for idx in range(1, len(route_nodes)):\n",
    "            prev, curr = route_nodes[idx-1], route_nodes[idx]\n",
    "            route_dist += dist[prev][curr]\n",
    "            route_time += service[prev] + dist[prev][curr]\n",
    "            # For depot, weight = 0; For other node, add demand\n",
    "            if curr != 0:\n",
    "                weight_load += weight[curr]\n",
    "                route_time = max(route_time, ready[curr])\n",
    "            else:\n",
    "                weight_load = 0  # When return to depot, unloading\n",
    "\n",
    "            loading_list.append(weight_load)\n",
    "            visited_time.append(route_time)\n",
    "            distance_list.append(route_dist)\n",
    "\n",
    "            # Feasibility check\n",
    "            if curr != 0:\n",
    "                if (route_time > due[curr]) or (weight_load > w_cap[k]):\n",
    "                    feasible = False\n",
    "\n",
    "        # After finished route for this vehicle, print\n",
    "        print(f\"\\n=== Vehicle {k+1} ===\")\n",
    "        print(\"Idx\\tNode\\tLoad\\t(Cap)\\tArrTime\\t[TimeWin]\\tDistFromDepot\\tLoad_OK\\tTime_OK\")\n",
    "        for idx in range(len(route_nodes)):\n",
    "            node = route_nodes[idx]\n",
    "            load_ok = loading_list[idx] <= w_cap[k]\n",
    "            time_ok = ready[node] <= visited_time[idx] <= due[node]\n",
    "            print(f\"{idx:>3}\\t{node:>4}\\t{loading_list[idx]:>5.2f}\\t/{w_cap[k]:>4}\\t\"\n",
    "                  f\"{visited_time[idx]:>6.2f}\\t[{ready[node]}, {due[node]}]\\t\"\n",
    "                  f\"{distance_list[idx]:>10.2f}\\t\"\n",
    "                  f\"{'✔' if load_ok else '✘'}\\t{'✔' if time_ok else '✘'}\")\n",
    "        print(f\"\\nRoute: {' → '.join(map(str, route_nodes))}\")\n",
    "        print(f\"Feasible: {'Yes' if feasible else 'No'}\")\n",
    "        print(f\"Total route distance: {route_dist:.2f} km\")\n",
    "        print(f\"Total route time: {route_time:.2f} min\")\n",
    "        print(f\"Max loading: {max(loading_list):.2f} / capacity {w_cap[k]}\")\n",
    "\n",
    "        total_distance += route_dist\n",
    "        total_time += route_time\n",
    "        max_loading = max(max_loading, max(loading_list))\n",
    "\n",
    "    # --- SUMMARY ---\n",
    "    print(\"\\n========= SUMMARY ==========\")\n",
    "    print(f\"Total fleet distance  : {total_distance:.2f} km\")\n",
    "    print(f\"Total fleet travel time: {total_time:.2f} min\")\n",
    "    print(f\"Max vehicle loading   : {max_loading:.2f} kg\")\n",
    "    print(\"===========================\")"
   ]
  },
  {
   "cell_type": "code",
   "execution_count": 12,
   "id": "6788dfe9",
   "metadata": {},
   "outputs": [],
   "source": [
    "seq = best_solution[: -vehicle[0]].argsort() + 1\n",
    "sort = best_solution[-vehicle[0] :].argsort()"
   ]
  },
  {
   "cell_type": "code",
   "execution_count": null,
   "id": "061aeaf1",
   "metadata": {},
   "outputs": [
    {
     "data": {
      "text/plain": [
       "np.float64(116.85236574369442)"
      ]
     },
     "execution_count": 11,
     "metadata": {},
     "output_type": "execute_result"
    }
   ],
   "source": [
    "preserving_strategy(seq, sort, **kwargs)"
   ]
  },
  {
   "cell_type": "code",
   "execution_count": 13,
   "id": "e695fa43",
   "metadata": {},
   "outputs": [
    {
     "name": "stdout",
     "output_type": "stream",
     "text": [
      "\n",
      "=== Vehicle 1 ===\n",
      "Idx\tNode\tLoad\t(Cap)\tArrTime\t[TimeWin]\tDistFromDepot\tLoad_OK\tTime_OK\n",
      "  0\t   0\t 0.00\t/200.0\t  0.00\t[0, 1236]\t      0.00\t✔\t✔\n",
      "  1\t   5\t10.00\t/200.0\t 15.13\t[15, 67]\t     15.13\t✔\t✔\n",
      "  2\t   3\t20.00\t/200.0\t106.13\t[65, 146]\t     16.13\t✔\t✔\n",
      "  3\t   7\t40.00\t/200.0\t198.13\t[170, 225]\t     18.13\t✔\t✔\n",
      "  4\t   8\t60.00\t/200.0\t290.96\t[255, 324]\t     20.96\t✔\t✔\n",
      "  5\t   9\t70.00\t/200.0\t534.00\t[534, 605]\t     22.96\t✔\t✔\n",
      "  6\t   6\t90.00\t/200.0\t626.24\t[621, 702]\t     25.20\t✔\t✔\n",
      "  7\t   4\t100.00\t/200.0\t727.00\t[727, 782]\t     27.43\t✔\t✔\n",
      "  8\t   2\t130.00\t/200.0\t825.00\t[825, 870]\t     31.04\t✔\t✔\n",
      "  9\t   1\t140.00\t/200.0\t917.00\t[912, 967]\t     33.04\t✔\t✔\n",
      " 10\t   0\t 0.00\t/200.0\t1025.68\t[0, 1236]\t     51.72\t✔\t✔\n",
      "\n",
      "Route: 0 → 5 → 3 → 7 → 8 → 9 → 6 → 4 → 2 → 1 → 0\n",
      "Feasible: Yes\n",
      "Total route distance: 51.72 km\n",
      "Total route time: 1025.68 min\n",
      "Max loading: 140.00 / capacity 200.0\n",
      "\n",
      "========= SUMMARY ==========\n",
      "Total fleet distance  : 51.72 km\n",
      "Total fleet travel time: 1025.68 min\n",
      "Max vehicle loading   : 140.00 kg\n",
      "===========================\n"
     ]
    }
   ],
   "source": [
    "show_preserving_solution(seq, sort, **kwargs)\n"
   ]
  },
  {
   "cell_type": "markdown",
   "id": "f20cfb0d",
   "metadata": {},
   "source": [
    "# Plotting"
   ]
  },
  {
   "cell_type": "code",
   "execution_count": null,
   "id": "3f92c895",
   "metadata": {},
   "outputs": [
    {
     "data": {
      "text/plain": [
       "array([ 0, 10, 30, 10, 10, 10, 20, 20, 20, 10])"
      ]
     },
     "execution_count": 13,
     "metadata": {},
     "output_type": "execute_result"
    }
   ],
   "source": [
    "demand"
   ]
  },
  {
   "cell_type": "code",
   "execution_count": null,
   "id": "0ec57f0f",
   "metadata": {},
   "outputs": [
    {
     "ename": "NameError",
     "evalue": "name 'y1' is not defined",
     "output_type": "error",
     "traceback": [
      "\u001b[31m---------------------------------------------------------------------------\u001b[39m",
      "\u001b[31mNameError\u001b[39m                                 Traceback (most recent call last)",
      "\u001b[36mCell\u001b[39m\u001b[36m \u001b[39m\u001b[32mIn[14]\u001b[39m\u001b[32m, line 1\u001b[39m\n\u001b[32m----> \u001b[39m\u001b[32m1\u001b[39m \u001b[43my1\u001b[49m[-\u001b[32m1\u001b[39m]\n",
      "\u001b[31mNameError\u001b[39m: name 'y1' is not defined"
     ]
    }
   ],
   "source": [
    "y1[-1]"
   ]
  },
  {
   "cell_type": "code",
   "execution_count": 14,
   "id": "272a1686",
   "metadata": {},
   "outputs": [
    {
     "data": {
      "image/png": "[encoded data removed]",
      "text/plain": [
       "<Figure size 1000x500 with 1 Axes>"
      ]
     },
     "metadata": {},
     "output_type": "display_data"
    }
   ],
   "source": [
    "Replication = [i for i in range(len(global_solution_plot))]\n",
    "y1 = global_solution_plot.tolist()\n",
    "fig, ax = plt.subplots(1, figsize=(10, 5))\n",
    "ax.plot(Replication, y1, marker=\".\", label=\"Differential Evoluation Algorithm\")\n",
    "ax.set(\n",
    "    xlabel=\"iteration\",\n",
    "    ylabel=\"Total Distance (Km.)\",\n",
    "    title=\"Differential Evoluation Algorithm Replication\",\n",
    ")\n",
    "ax.grid()\n",
    "ax.legend()\n",
    "plt.show()"
   ]
  }
 ],
 "metadata": {
  "kernelspec": {
   "display_name": "rl-meta-test (3.12.10)",
   "language": "python",
   "name": "python3"
  },
  "language_info": {
   "codemirror_mode": {
    "name": "ipython",
    "version": 3
   },
   "file_extension": ".py",
   "mimetype": "text/x-python",
   "name": "python",
   "nbconvert_exporter": "python",
   "pygments_lexer": "ipython3",
   "version": "3.12.10"
  }
 },
 "nbformat": 4,
 "nbformat_minor": 5
}
