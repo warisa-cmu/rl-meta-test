{
 "cells": [
  {
   "cell_type": "markdown",
   "id": "daf30c3f",
   "metadata": {},
   "source": [
    "# Import Library\n"
   ]
  },
  {
   "cell_type": "code",
   "execution_count": 1,
   "id": "1467843e",
   "metadata": {},
   "outputs": [],
   "source": [
    "import numpy as np\n",
    "import pandas as pd\n",
    "import matplotlib.pyplot as plt\n",
    "import time"
   ]
  },
  {
   "cell_type": "markdown",
   "id": "046ac801",
   "metadata": {},
   "source": [
    "# Euclidean distance function"
   ]
  },
  {
   "cell_type": "code",
   "execution_count": 2,
   "id": "ca2c8ff1",
   "metadata": {},
   "outputs": [
    {
     "name": "stdout",
     "output_type": "stream",
     "text": [
      "[[0.         3.60555128 3.16227766 7.07106781]\n",
      " [3.60555128 0.         2.23606798 3.60555128]\n",
      " [3.16227766 2.23606798 0.         4.47213595]\n",
      " [7.07106781 3.60555128 4.47213595 0.        ]]\n"
     ]
    }
   ],
   "source": [
    "def compute_euclidean_distance_matrix(locations):\n",
    "    \"\"\"\n",
    "    Compute Euclidean distance matrix for a list of locations.\n",
    "    Args:\n",
    "        locations: numpy array or list of shape (N, 2), with [x, y] coordinates for each node (depot + customers)\n",
    "    Returns:\n",
    "        distance_matrix: numpy array of shape (N, N) where (i, j) is the distance between node i and j\n",
    "    \"\"\"\n",
    "    locations = np.array(locations)\n",
    "    diff = locations[:, np.newaxis, :] - locations[np.newaxis, :, :]\n",
    "    distance_matrix = np.sqrt(np.sum(diff**2, axis=-1))\n",
    "    return distance_matrix\n",
    "\n",
    "\n",
    "# Example usage:\n",
    "# Suppose depot at (0,0), customer1 at (2,3), customer2 at (3,1), customer3 at (5,5)\n",
    "locations = [\n",
    "    [0, 0],  # Depot\n",
    "    [2, 3],  # Customer 1\n",
    "    [3, 1],  # Customer 2\n",
    "    [5, 5],  # Customer 3\n",
    "]\n",
    "dist_matrix = compute_euclidean_distance_matrix(locations)\n",
    "print(dist_matrix)"
   ]
  },
  {
   "cell_type": "markdown",
   "id": "8b2dc4af",
   "metadata": {},
   "source": [
    "# Import Data"
   ]
  },
  {
   "cell_type": "code",
   "execution_count": 3,
   "id": "db3eafc6",
   "metadata": {},
   "outputs": [],
   "source": [
    "# Load CSV files\n",
    "df_customers = pd.read_excel(\n",
    "    r\"C:\\rl-meta-test\\src\\Source\\Solomon datasets\\c101.xlsx\", sheet_name=\"customer\"\n",
    ")\n",
    "df_dataInfo = pd.read_excel(\n",
    "    r\"C:\\rl-meta-test\\src\\Source\\Solomon datasets\\c101.xlsx\", sheet_name=\"vehicle\"\n",
    ")"
   ]
  },
  {
   "cell_type": "code",
   "execution_count": 5,
   "id": "ec4d258d",
   "metadata": {},
   "outputs": [
    {
     "data": {
      "application/vnd.microsoft.datawrangler.viewer.v0+json": {
       "columns": [
        {
         "name": "index",
         "rawType": "int64",
         "type": "integer"
        },
        {
         "name": "CUST NO.",
         "rawType": "int64",
         "type": "integer"
        },
        {
         "name": "XCOORD.",
         "rawType": "int64",
         "type": "integer"
        },
        {
         "name": "YCOORD.",
         "rawType": "int64",
         "type": "integer"
        },
        {
         "name": "DEMAND",
         "rawType": "int64",
         "type": "integer"
        },
        {
         "name": "READY TIME",
         "rawType": "int64",
         "type": "integer"
        },
        {
         "name": "DUE DATE",
         "rawType": "int64",
         "type": "integer"
        },
        {
         "name": "SERVICE   TIME",
         "rawType": "int64",
         "type": "integer"
        }
       ],
       "ref": "7ada5652-1ded-4b81-819e-774ddaf14c83",
       "rows": [
        [
         "0",
         "0",
         "40",
         "50",
         "0",
         "0",
         "1236",
         "0"
        ],
        [
         "1",
         "1",
         "45",
         "68",
         "10",
         "912",
         "967",
         "90"
        ],
        [
         "2",
         "2",
         "45",
         "70",
         "30",
         "825",
         "870",
         "90"
        ],
        [
         "3",
         "3",
         "42",
         "66",
         "10",
         "65",
         "146",
         "90"
        ],
        [
         "4",
         "4",
         "42",
         "68",
         "10",
         "727",
         "782",
         "90"
        ],
        [
         "5",
         "5",
         "42",
         "65",
         "10",
         "15",
         "67",
         "90"
        ],
        [
         "6",
         "6",
         "40",
         "69",
         "20",
         "621",
         "702",
         "90"
        ],
        [
         "7",
         "7",
         "40",
         "66",
         "20",
         "170",
         "225",
         "90"
        ],
        [
         "8",
         "8",
         "38",
         "68",
         "20",
         "255",
         "324",
         "90"
        ],
        [
         "9",
         "9",
         "38",
         "70",
         "10",
         "534",
         "605",
         "90"
        ],
        [
         "10",
         "10",
         "35",
         "66",
         "10",
         "357",
         "410",
         "90"
        ],
        [
         "11",
         "11",
         "35",
         "69",
         "10",
         "448",
         "505",
         "90"
        ],
        [
         "12",
         "12",
         "25",
         "85",
         "20",
         "652",
         "721",
         "90"
        ],
        [
         "13",
         "13",
         "22",
         "75",
         "30",
         "30",
         "92",
         "90"
        ],
        [
         "14",
         "14",
         "22",
         "85",
         "10",
         "567",
         "620",
         "90"
        ],
        [
         "15",
         "15",
         "20",
         "80",
         "40",
         "384",
         "429",
         "90"
        ],
        [
         "16",
         "16",
         "20",
         "85",
         "40",
         "475",
         "528",
         "90"
        ],
        [
         "17",
         "17",
         "18",
         "75",
         "20",
         "99",
         "148",
         "90"
        ],
        [
         "18",
         "18",
         "15",
         "75",
         "20",
         "179",
         "254",
         "90"
        ],
        [
         "19",
         "19",
         "15",
         "80",
         "10",
         "278",
         "345",
         "90"
        ],
        [
         "20",
         "20",
         "30",
         "50",
         "10",
         "10",
         "73",
         "90"
        ],
        [
         "21",
         "21",
         "30",
         "52",
         "20",
         "914",
         "965",
         "90"
        ],
        [
         "22",
         "22",
         "28",
         "52",
         "20",
         "812",
         "883",
         "90"
        ],
        [
         "23",
         "23",
         "28",
         "55",
         "10",
         "732",
         "777",
         "90"
        ],
        [
         "24",
         "24",
         "25",
         "50",
         "10",
         "65",
         "144",
         "90"
        ],
        [
         "25",
         "25",
         "25",
         "52",
         "40",
         "169",
         "224",
         "90"
        ],
        [
         "26",
         "26",
         "25",
         "55",
         "10",
         "622",
         "701",
         "90"
        ],
        [
         "27",
         "27",
         "23",
         "52",
         "10",
         "261",
         "316",
         "90"
        ],
        [
         "28",
         "28",
         "23",
         "55",
         "20",
         "546",
         "593",
         "90"
        ],
        [
         "29",
         "29",
         "20",
         "50",
         "10",
         "358",
         "405",
         "90"
        ],
        [
         "30",
         "30",
         "20",
         "55",
         "10",
         "449",
         "504",
         "90"
        ],
        [
         "31",
         "31",
         "10",
         "35",
         "20",
         "200",
         "237",
         "90"
        ],
        [
         "32",
         "32",
         "10",
         "40",
         "30",
         "31",
         "100",
         "90"
        ],
        [
         "33",
         "33",
         "8",
         "40",
         "40",
         "87",
         "158",
         "90"
        ],
        [
         "34",
         "34",
         "8",
         "45",
         "20",
         "751",
         "816",
         "90"
        ],
        [
         "35",
         "35",
         "5",
         "35",
         "10",
         "283",
         "344",
         "90"
        ],
        [
         "36",
         "36",
         "5",
         "45",
         "10",
         "665",
         "716",
         "90"
        ],
        [
         "37",
         "37",
         "2",
         "40",
         "20",
         "383",
         "434",
         "90"
        ],
        [
         "38",
         "38",
         "0",
         "40",
         "30",
         "479",
         "522",
         "90"
        ],
        [
         "39",
         "39",
         "0",
         "45",
         "20",
         "567",
         "624",
         "90"
        ],
        [
         "40",
         "40",
         "35",
         "30",
         "10",
         "264",
         "321",
         "90"
        ],
        [
         "41",
         "41",
         "35",
         "32",
         "10",
         "166",
         "235",
         "90"
        ],
        [
         "42",
         "42",
         "33",
         "32",
         "20",
         "68",
         "149",
         "90"
        ],
        [
         "43",
         "43",
         "33",
         "35",
         "10",
         "16",
         "80",
         "90"
        ],
        [
         "44",
         "44",
         "32",
         "30",
         "10",
         "359",
         "412",
         "90"
        ],
        [
         "45",
         "45",
         "30",
         "30",
         "10",
         "541",
         "600",
         "90"
        ],
        [
         "46",
         "46",
         "30",
         "32",
         "30",
         "448",
         "509",
         "90"
        ],
        [
         "47",
         "47",
         "30",
         "35",
         "10",
         "1054",
         "1127",
         "90"
        ],
        [
         "48",
         "48",
         "28",
         "30",
         "10",
         "632",
         "693",
         "90"
        ],
        [
         "49",
         "49",
         "28",
         "35",
         "10",
         "1001",
         "1066",
         "90"
        ]
       ],
       "shape": {
        "columns": 7,
        "rows": 101
       }
      },
      "text/html": [
       "<div>\n",
       "<style scoped>\n",
       "    .dataframe tbody tr th:only-of-type {\n",
       "        vertical-align: middle;\n",
       "    }\n",
       "\n",
       "    .dataframe tbody tr th {\n",
       "        vertical-align: top;\n",
       "    }\n",
       "\n",
       "    .dataframe thead th {\n",
       "        text-align: right;\n",
       "    }\n",
       "</style>\n",
       "<table border=\"1\" class=\"dataframe\">\n",
       "  <thead>\n",
       "    <tr style=\"text-align: right;\">\n",
       "      <th></th>\n",
       "      <th>CUST NO.</th>\n",
       "      <th>XCOORD.</th>\n",
       "      <th>YCOORD.</th>\n",
       "      <th>DEMAND</th>\n",
       "      <th>READY TIME</th>\n",
       "      <th>DUE DATE</th>\n",
       "      <th>SERVICE   TIME</th>\n",
       "    </tr>\n",
       "  </thead>\n",
       "  <tbody>\n",
       "    <tr>\n",
       "      <th>0</th>\n",
       "      <td>0</td>\n",
       "      <td>40</td>\n",
       "      <td>50</td>\n",
       "      <td>0</td>\n",
       "      <td>0</td>\n",
       "      <td>1236</td>\n",
       "      <td>0</td>\n",
       "    </tr>\n",
       "    <tr>\n",
       "      <th>1</th>\n",
       "      <td>1</td>\n",
       "      <td>45</td>\n",
       "      <td>68</td>\n",
       "      <td>10</td>\n",
       "      <td>912</td>\n",
       "      <td>967</td>\n",
       "      <td>90</td>\n",
       "    </tr>\n",
       "    <tr>\n",
       "      <th>2</th>\n",
       "      <td>2</td>\n",
       "      <td>45</td>\n",
       "      <td>70</td>\n",
       "      <td>30</td>\n",
       "      <td>825</td>\n",
       "      <td>870</td>\n",
       "      <td>90</td>\n",
       "    </tr>\n",
       "    <tr>\n",
       "      <th>3</th>\n",
       "      <td>3</td>\n",
       "      <td>42</td>\n",
       "      <td>66</td>\n",
       "      <td>10</td>\n",
       "      <td>65</td>\n",
       "      <td>146</td>\n",
       "      <td>90</td>\n",
       "    </tr>\n",
       "    <tr>\n",
       "      <th>4</th>\n",
       "      <td>4</td>\n",
       "      <td>42</td>\n",
       "      <td>68</td>\n",
       "      <td>10</td>\n",
       "      <td>727</td>\n",
       "      <td>782</td>\n",
       "      <td>90</td>\n",
       "    </tr>\n",
       "    <tr>\n",
       "      <th>...</th>\n",
       "      <td>...</td>\n",
       "      <td>...</td>\n",
       "      <td>...</td>\n",
       "      <td>...</td>\n",
       "      <td>...</td>\n",
       "      <td>...</td>\n",
       "      <td>...</td>\n",
       "    </tr>\n",
       "    <tr>\n",
       "      <th>96</th>\n",
       "      <td>96</td>\n",
       "      <td>60</td>\n",
       "      <td>80</td>\n",
       "      <td>10</td>\n",
       "      <td>95</td>\n",
       "      <td>156</td>\n",
       "      <td>90</td>\n",
       "    </tr>\n",
       "    <tr>\n",
       "      <th>97</th>\n",
       "      <td>97</td>\n",
       "      <td>60</td>\n",
       "      <td>85</td>\n",
       "      <td>30</td>\n",
       "      <td>561</td>\n",
       "      <td>622</td>\n",
       "      <td>90</td>\n",
       "    </tr>\n",
       "    <tr>\n",
       "      <th>98</th>\n",
       "      <td>98</td>\n",
       "      <td>58</td>\n",
       "      <td>75</td>\n",
       "      <td>20</td>\n",
       "      <td>30</td>\n",
       "      <td>84</td>\n",
       "      <td>90</td>\n",
       "    </tr>\n",
       "    <tr>\n",
       "      <th>99</th>\n",
       "      <td>99</td>\n",
       "      <td>55</td>\n",
       "      <td>80</td>\n",
       "      <td>10</td>\n",
       "      <td>743</td>\n",
       "      <td>820</td>\n",
       "      <td>90</td>\n",
       "    </tr>\n",
       "    <tr>\n",
       "      <th>100</th>\n",
       "      <td>100</td>\n",
       "      <td>55</td>\n",
       "      <td>85</td>\n",
       "      <td>20</td>\n",
       "      <td>647</td>\n",
       "      <td>726</td>\n",
       "      <td>90</td>\n",
       "    </tr>\n",
       "  </tbody>\n",
       "</table>\n",
       "<p>101 rows × 7 columns</p>\n",
       "</div>"
      ],
      "text/plain": [
       "     CUST NO.  XCOORD.  YCOORD.  DEMAND  READY TIME  DUE DATE  SERVICE   TIME\n",
       "0           0       40       50       0           0      1236               0\n",
       "1           1       45       68      10         912       967              90\n",
       "2           2       45       70      30         825       870              90\n",
       "3           3       42       66      10          65       146              90\n",
       "4           4       42       68      10         727       782              90\n",
       "..        ...      ...      ...     ...         ...       ...             ...\n",
       "96         96       60       80      10          95       156              90\n",
       "97         97       60       85      30         561       622              90\n",
       "98         98       58       75      20          30        84              90\n",
       "99         99       55       80      10         743       820              90\n",
       "100       100       55       85      20         647       726              90\n",
       "\n",
       "[101 rows x 7 columns]"
      ]
     },
     "execution_count": 5,
     "metadata": {},
     "output_type": "execute_result"
    }
   ],
   "source": [
    "df_customers"
   ]
  },
  {
   "cell_type": "markdown",
   "id": "02e2dfcc",
   "metadata": {},
   "source": [
    "# Data Preparation"
   ]
  },
  {
   "cell_type": "code",
   "execution_count": 13,
   "id": "c4d3395a",
   "metadata": {},
   "outputs": [
    {
     "data": {
      "application/vnd.microsoft.datawrangler.viewer.v0+json": {
       "columns": [
        {
         "name": "index",
         "rawType": "int64",
         "type": "integer"
        },
        {
         "name": "XCOORD.",
         "rawType": "int64",
         "type": "integer"
        },
        {
         "name": "YCOORD.",
         "rawType": "int64",
         "type": "integer"
        }
       ],
       "ref": "ad17e0b5-4666-4c46-80a8-ffa815f486d5",
       "rows": [
        [
         "0",
         "40",
         "50"
        ],
        [
         "1",
         "45",
         "68"
        ],
        [
         "2",
         "45",
         "70"
        ],
        [
         "3",
         "42",
         "66"
        ],
        [
         "4",
         "42",
         "68"
        ],
        [
         "5",
         "42",
         "65"
        ],
        [
         "6",
         "40",
         "69"
        ],
        [
         "7",
         "40",
         "66"
        ],
        [
         "8",
         "38",
         "68"
        ],
        [
         "9",
         "38",
         "70"
        ],
        [
         "10",
         "35",
         "66"
        ],
        [
         "11",
         "35",
         "69"
        ],
        [
         "12",
         "25",
         "85"
        ],
        [
         "13",
         "22",
         "75"
        ],
        [
         "14",
         "22",
         "85"
        ],
        [
         "15",
         "20",
         "80"
        ],
        [
         "16",
         "20",
         "85"
        ],
        [
         "17",
         "18",
         "75"
        ],
        [
         "18",
         "15",
         "75"
        ],
        [
         "19",
         "15",
         "80"
        ],
        [
         "20",
         "30",
         "50"
        ],
        [
         "21",
         "30",
         "52"
        ],
        [
         "22",
         "28",
         "52"
        ],
        [
         "23",
         "28",
         "55"
        ],
        [
         "24",
         "25",
         "50"
        ],
        [
         "25",
         "25",
         "52"
        ]
       ],
       "shape": {
        "columns": 2,
        "rows": 26
       }
      },
      "text/html": [
       "<div>\n",
       "<style scoped>\n",
       "    .dataframe tbody tr th:only-of-type {\n",
       "        vertical-align: middle;\n",
       "    }\n",
       "\n",
       "    .dataframe tbody tr th {\n",
       "        vertical-align: top;\n",
       "    }\n",
       "\n",
       "    .dataframe thead th {\n",
       "        text-align: right;\n",
       "    }\n",
       "</style>\n",
       "<table border=\"1\" class=\"dataframe\">\n",
       "  <thead>\n",
       "    <tr style=\"text-align: right;\">\n",
       "      <th></th>\n",
       "      <th>XCOORD.</th>\n",
       "      <th>YCOORD.</th>\n",
       "    </tr>\n",
       "  </thead>\n",
       "  <tbody>\n",
       "    <tr>\n",
       "      <th>0</th>\n",
       "      <td>40</td>\n",
       "      <td>50</td>\n",
       "    </tr>\n",
       "    <tr>\n",
       "      <th>1</th>\n",
       "      <td>45</td>\n",
       "      <td>68</td>\n",
       "    </tr>\n",
       "    <tr>\n",
       "      <th>2</th>\n",
       "      <td>45</td>\n",
       "      <td>70</td>\n",
       "    </tr>\n",
       "    <tr>\n",
       "      <th>3</th>\n",
       "      <td>42</td>\n",
       "      <td>66</td>\n",
       "    </tr>\n",
       "    <tr>\n",
       "      <th>4</th>\n",
       "      <td>42</td>\n",
       "      <td>68</td>\n",
       "    </tr>\n",
       "    <tr>\n",
       "      <th>5</th>\n",
       "      <td>42</td>\n",
       "      <td>65</td>\n",
       "    </tr>\n",
       "    <tr>\n",
       "      <th>6</th>\n",
       "      <td>40</td>\n",
       "      <td>69</td>\n",
       "    </tr>\n",
       "    <tr>\n",
       "      <th>7</th>\n",
       "      <td>40</td>\n",
       "      <td>66</td>\n",
       "    </tr>\n",
       "    <tr>\n",
       "      <th>8</th>\n",
       "      <td>38</td>\n",
       "      <td>68</td>\n",
       "    </tr>\n",
       "    <tr>\n",
       "      <th>9</th>\n",
       "      <td>38</td>\n",
       "      <td>70</td>\n",
       "    </tr>\n",
       "    <tr>\n",
       "      <th>10</th>\n",
       "      <td>35</td>\n",
       "      <td>66</td>\n",
       "    </tr>\n",
       "    <tr>\n",
       "      <th>11</th>\n",
       "      <td>35</td>\n",
       "      <td>69</td>\n",
       "    </tr>\n",
       "    <tr>\n",
       "      <th>12</th>\n",
       "      <td>25</td>\n",
       "      <td>85</td>\n",
       "    </tr>\n",
       "    <tr>\n",
       "      <th>13</th>\n",
       "      <td>22</td>\n",
       "      <td>75</td>\n",
       "    </tr>\n",
       "    <tr>\n",
       "      <th>14</th>\n",
       "      <td>22</td>\n",
       "      <td>85</td>\n",
       "    </tr>\n",
       "    <tr>\n",
       "      <th>15</th>\n",
       "      <td>20</td>\n",
       "      <td>80</td>\n",
       "    </tr>\n",
       "    <tr>\n",
       "      <th>16</th>\n",
       "      <td>20</td>\n",
       "      <td>85</td>\n",
       "    </tr>\n",
       "    <tr>\n",
       "      <th>17</th>\n",
       "      <td>18</td>\n",
       "      <td>75</td>\n",
       "    </tr>\n",
       "    <tr>\n",
       "      <th>18</th>\n",
       "      <td>15</td>\n",
       "      <td>75</td>\n",
       "    </tr>\n",
       "    <tr>\n",
       "      <th>19</th>\n",
       "      <td>15</td>\n",
       "      <td>80</td>\n",
       "    </tr>\n",
       "    <tr>\n",
       "      <th>20</th>\n",
       "      <td>30</td>\n",
       "      <td>50</td>\n",
       "    </tr>\n",
       "    <tr>\n",
       "      <th>21</th>\n",
       "      <td>30</td>\n",
       "      <td>52</td>\n",
       "    </tr>\n",
       "    <tr>\n",
       "      <th>22</th>\n",
       "      <td>28</td>\n",
       "      <td>52</td>\n",
       "    </tr>\n",
       "    <tr>\n",
       "      <th>23</th>\n",
       "      <td>28</td>\n",
       "      <td>55</td>\n",
       "    </tr>\n",
       "    <tr>\n",
       "      <th>24</th>\n",
       "      <td>25</td>\n",
       "      <td>50</td>\n",
       "    </tr>\n",
       "    <tr>\n",
       "      <th>25</th>\n",
       "      <td>25</td>\n",
       "      <td>52</td>\n",
       "    </tr>\n",
       "  </tbody>\n",
       "</table>\n",
       "</div>"
      ],
      "text/plain": [
       "    XCOORD.  YCOORD.\n",
       "0        40       50\n",
       "1        45       68\n",
       "2        45       70\n",
       "3        42       66\n",
       "4        42       68\n",
       "5        42       65\n",
       "6        40       69\n",
       "7        40       66\n",
       "8        38       68\n",
       "9        38       70\n",
       "10       35       66\n",
       "11       35       69\n",
       "12       25       85\n",
       "13       22       75\n",
       "14       22       85\n",
       "15       20       80\n",
       "16       20       85\n",
       "17       18       75\n",
       "18       15       75\n",
       "19       15       80\n",
       "20       30       50\n",
       "21       30       52\n",
       "22       28       52\n",
       "23       28       55\n",
       "24       25       50\n",
       "25       25       52"
      ]
     },
     "execution_count": 13,
     "metadata": {},
     "output_type": "execute_result"
    }
   ],
   "source": [
    "df_customers.iloc[:26, 1:3]"
   ]
  },
  {
   "cell_type": "code",
   "execution_count": 15,
   "id": "73871a76",
   "metadata": {},
   "outputs": [],
   "source": [
    "customer = 10\n",
    "\n",
    "# Extract coordinates (x, y) of customers (including depot) and convert to NumPy array\n",
    "xycoord = df_customers.iloc[:customer, 1:3].to_numpy()\n",
    "distance = compute_euclidean_distance_matrix(xycoord)  # Calculate distance\n",
    "# distance = pd.read_csv(\n",
    "#    r\"C:\\rl-meta-test\\src\\Source\\solomon_data\\solomon25_csv\\distance_matrix\\c101distanceMatrix.csv\"\n",
    "# ).to_numpy()\n",
    "\n",
    "\n",
    "# Extract demand for each customer as NumPy array\n",
    "demand = df_customers.iloc[:customer, 3].to_numpy()\n",
    "\n",
    "# Extract 'ready time' (earliest time service can begin at each customer)\n",
    "readyTime = df_customers.iloc[:customer, 4].to_numpy()\n",
    "\n",
    "# Extract 'due date' (latest time service must begin at each customer)\n",
    "dueDate = df_customers.iloc[:customer, 5].to_numpy()\n",
    "\n",
    "# Extract service time required at each customer\n",
    "serviceTime = df_customers.iloc[:customer, 6].to_numpy()\n",
    "\n",
    "# Extract vehicle information (such as capacity, number of vehicles, etc.) from the first row of df_dataInfo\n",
    "vehicle = df_dataInfo.iloc[0, :].to_numpy()\n",
    "\n",
    "kwargs = {\n",
    "    \"distance\": distance,\n",
    "    \"demand\": demand,\n",
    "    \"readyTime\": readyTime,\n",
    "    \"dueDate\": dueDate,\n",
    "    \"serviceTime\": serviceTime,\n",
    "    \"vehicle\": vehicle,\n",
    "}\n"
   ]
  },
  {
   "cell_type": "markdown",
   "id": "22fca928",
   "metadata": {},
   "source": [
    "# Differential Evolutional Algorithm Parameters"
   ]
  },
  {
   "cell_type": "code",
   "execution_count": 17,
   "id": "05d6cc19",
   "metadata": {},
   "outputs": [],
   "source": [
    "dimensions = len(distance) - 1 + vehicle[0]\n",
    "maxiters = 10\n",
    "n_pop = 10\n",
    "bounds = np.array([[0, 1]] * dimensions)\n",
    "Mutation_rate = np.array([0.9, 0.5])\n",
    "Crossover_rate = np.array([0.5, 0.1])\n",
    "island = 2\n",
    "migration_rate = 0.5"
   ]
  },
  {
   "cell_type": "markdown",
   "id": "bee56017",
   "metadata": {},
   "source": [
    "# Differential Evolutional Algorithm\n"
   ]
  },
  {
   "cell_type": "code",
   "execution_count": null,
   "id": "3b419211",
   "metadata": {},
   "outputs": [],
   "source": [
    "def differential_evolution(\n",
    "    objective_func,\n",
    "    bounds,\n",
    "    population_size=n_pop,\n",
    "    max_generations=maxiters,\n",
    "    Mutation_rate=Mutation_rate,\n",
    "    Crossover_rate=Crossover_rate,\n",
    "    island=island,\n",
    "    migration_rate=migration_rate,\n",
    "    **kwargs,\n",
    "):\n",
    "    global_solution = np.array([])\n",
    "    \n",
    "    for num_island in range(island):\n",
    "        if num_island == 0:\n",
    "            # Initialize population\n",
    "            population = np.random.uniform(\n",
    "                bounds[:, 0], bounds[:, 1], (population_size, len(bounds))\n",
    "            )\n",
    "        else:\n",
    "            # Initialize population\n",
    "            population = np.random.uniform(\n",
    "                bounds[:, 0], bounds[:, 1], (population_size, len(bounds))\n",
    "            )\n",
    "            migration_cost = np.array([])\n",
    "            for obj in range(len(population)):\n",
    "                migration_cost = np.insert(\n",
    "                    migration_cost,\n",
    "                    len(migration_cost),\n",
    "                    objective_func(population[obj], **kwargs),\n",
    "                )\n",
    "\n",
    "            idx_good_migration = migration_cost.argsort()\n",
    "            idx_bad_migration = np.flip(idx_good_migration)[\n",
    "                : int(population_size * migration_rate)\n",
    "            ]\n",
    "\n",
    "            population[idx_bad_migration] = migration_population\n",
    "\n",
    "        Upperbound_Mutation = Mutation_rate[1]\n",
    "        Lowerbound_Mutation = Mutation_rate[0]\n",
    "        Upperbound_Crossover_rate = Crossover_rate[1]\n",
    "        Lowerbound_Crossover_rate = Crossover_rate[0]\n",
    "        F = Mutation_rate[0]\n",
    "        CR = Crossover_rate[0]\n",
    "\n",
    "        for generation in range(max_generations):\n",
    "            # print(f'Iteration {generation}')\n",
    "            current_cost = np.array([])\n",
    "            F += (Upperbound_Mutation - Lowerbound_Mutation) / max_generations\n",
    "            CR += (\n",
    "                Upperbound_Crossover_rate - Lowerbound_Crossover_rate\n",
    "            ) / max_generations\n",
    "            for i in range(population_size):\n",
    "                # Mutation\n",
    "                indices = [idx for idx in range(population_size) if idx != i]\n",
    "                a, b, c = population[np.random.choice(indices, 3, replace=False)]\n",
    "                mutant = population[i] + F * (b - c)\n",
    "\n",
    "                # Crossover\n",
    "                crossover_prob = np.random.rand(len(bounds))\n",
    "                trial = np.where(crossover_prob < CR, mutant, population[i])\n",
    "\n",
    "                # Selection\n",
    "                fitness_trial = objective_func(trial, **kwargs)\n",
    "                fitness_current = objective_func(population[i], **kwargs)\n",
    "\n",
    "                if fitness_trial < fitness_current:\n",
    "                    population[i] = trial\n",
    "                    current_cost = np.insert(\n",
    "                        current_cost, len(current_cost), fitness_trial\n",
    "                    )\n",
    "                else:\n",
    "                    current_cost = np.insert(\n",
    "                        current_cost, len(current_cost), fitness_current\n",
    "                    )\n",
    "\n",
    "            idx_best_migration = current_cost.argsort()[\n",
    "                : int(population_size * migration_rate)\n",
    "            ]\n",
    "            migration_population = population[idx_best_migration]\n",
    "            \n",
    "\n",
    "            best_index_plot = current_cost[np.argmin(current_cost)]\n",
    "            global_solution = np.insert(\n",
    "                global_solution, len(global_solution), best_index_plot\n",
    "            )\n",
    "\n",
    "        # Find the best solution\n",
    "        best_index = np.argmin(\n",
    "            [objective_func(individual, **kwargs) for individual in population]\n",
    "        )\n",
    "        best_solution = population[best_index]\n",
    "\n",
    "    return best_solution, global_solution"
   ]
  },
  {
   "cell_type": "markdown",
   "id": "a5d3319f",
   "metadata": {},
   "source": [
    "# Decoding"
   ]
  },
  {
   "cell_type": "code",
   "execution_count": 19,
   "id": "7d582960",
   "metadata": {},
   "outputs": [],
   "source": [
    "def objective_func(x, **kwargs):\n",
    "    vehicle = kwargs[\"vehicle\"]\n",
    "    seq = x[: -vehicle[0]].argsort() + 1\n",
    "    sort = x[-vehicle[0] :].argsort()\n",
    "    j = f_per_particle(\n",
    "        seq, sort, **kwargs\n",
    "    )  # [f_per_particle1(x[i], sort[i], i, **kwargs) if i <= 2 else f_per_particle(x[i], sort[i], **kwargs) for i in range(n_particles)]        # Calculate each particle.\n",
    "    return np.array(j)\n",
    "\n",
    "\n",
    "def f_per_particle(m, s, **kwargs):\n",
    "    X = m  # Sequence\n",
    "    V = s  # Vehicle\n",
    "    obj_val = preserving_strategy(X, V, **kwargs)  # Call Preserving strategy.\n",
    "    return obj_val\n",
    "\n",
    "\n",
    "def preserving_strategy(X, V, **kwargs):\n",
    "    # --- Unpack input data from keyword arguments ---\n",
    "    dist = kwargs[\"distance\"]  # Distance/time matrix between all nodes\n",
    "    weight = kwargs[\"demand\"]  # Demand (weight) for each customer node\n",
    "    ready = kwargs[\"readyTime\"]  # Ready time (earliest service time) for each node\n",
    "    due = kwargs[\"dueDate\"]  # Due time (latest service time) for each node\n",
    "    service = kwargs[\"serviceTime\"]  # Service time at each node\n",
    "    vehicle = kwargs[\n",
    "        \"vehicle\"\n",
    "    ]  # Vehicle info: [number of vehicles, capacity per vehicle]\n",
    "    # Get per-vehicle capacities (by indexing with V)\n",
    "    pre_w_cap = np.array([vehicle[1]] * vehicle[0])\n",
    "    w_cap = pre_w_cap[V]\n",
    "\n",
    "    # -- Initialization --\n",
    "    sequence = X  # Route sequence (includes depot at start & end)\n",
    "    n_cust = len(sequence) - 2  # Number of customers (not counting depot nodes)\n",
    "    n_veh = vehicle[0] - 1  # Number of vehicles - 1 (for indexing)\n",
    "    i, k = 0, 0  # i: current position in sequence, k: vehicle index\n",
    "    total_distance = 0  # Store total traveled distance (with penalty if any)\n",
    "\n",
    "    # -- Main loop over each vehicle route --\n",
    "    while k <= n_veh and i <= n_cust:\n",
    "        # Initialize per-route accumulators\n",
    "        route_dist, route_time, weight_load, penaltyCost = 0, 0, 0, 0\n",
    "\n",
    "        if k > 0:\n",
    "            i += 1  # Move to the next start customer for the next vehicle\n",
    "        # Start route: depot to first customer\n",
    "        route_dist += dist[0][sequence[i]]  # Distance depot -> first customer\n",
    "        route_time += (\n",
    "            service[0] + dist[0][sequence[i]]\n",
    "        )  # Service + travel time to first customer\n",
    "        weight_load += weight[sequence[i]]  # Initial cargo: first customer demand\n",
    "\n",
    "        if route_time < ready[sequence[i]]:\n",
    "            route_time = ready[sequence[i]]  # Wait if vehicle arrives before ready time\n",
    "\n",
    "        if route_time > due[sequence[i]] or weight_load > w_cap[k]:\n",
    "            penaltyCost += 1e11  # Penalty: arrived after due time (infeasible)\n",
    "            break\n",
    "\n",
    "        # --- Continue visiting customers along this route ---\n",
    "        while i <= n_cust:\n",
    "            route_dist += dist[sequence[i]][sequence[i + 1]]  # Add next leg distance\n",
    "            route_time += (\n",
    "                service[sequence[i]] + dist[sequence[i]][sequence[i + 1]]\n",
    "            )  # Add service + travel time\n",
    "            weight_load += weight[sequence[i + 1]]  # Add new customer demand\n",
    "\n",
    "            if route_time < ready[sequence[i + 1]]:\n",
    "                route_time = ready[sequence[i + 1]]  # Wait if arrive early at next node\n",
    "\n",
    "            # If time window or capacity violated, backtrack and finish route\n",
    "            if route_time > due[sequence[i + 1]] or weight_load > w_cap[k]:\n",
    "                route_dist -= dist[sequence[i]][sequence[i + 1]]\n",
    "                route_time -= service[sequence[i]] + dist[sequence[i]][sequence[i + 1]]\n",
    "                weight_load -= weight[sequence[i + 1]]\n",
    "                break\n",
    "            i += 1\n",
    "\n",
    "        # --- Finish by returning to depot ---\n",
    "        route_dist += dist[sequence[i]][0]  # Add distance to depot\n",
    "        route_time += (\n",
    "            service[sequence[i]] + dist[sequence[i]][0]\n",
    "        )  # Add service at last node + travel to depot\n",
    "        if route_time > due[0]:\n",
    "            penaltyCost += 1e11  # Penalty: returned to depot too late\n",
    "        # Accumulate this route's total (distance + penalty if any)\n",
    "        total_distance += route_dist + penaltyCost\n",
    "        # print(f'Total weight {weight_load} km.')\n",
    "        # print(f'Traveling time {route_time} mins.')\n",
    "        # print(f'Total traveling distance {route_dist} km.')\n",
    "        k += 1  # Next vehicle\n",
    "\n",
    "    return (\n",
    "        total_distance  # Return overall objective (distance with penalty if violated)\n",
    "    )\n"
   ]
  },
  {
   "cell_type": "markdown",
   "id": "b9f4ecc0",
   "metadata": {},
   "source": [
    "# Checking Solution"
   ]
  },
  {
   "cell_type": "code",
   "execution_count": 20,
   "id": "99317925",
   "metadata": {},
   "outputs": [
    {
     "data": {
      "text/plain": [
       "array([0, 1, 2, 3])"
      ]
     },
     "execution_count": 20,
     "metadata": {},
     "output_type": "execute_result"
    }
   ],
   "source": [
    "correct_solution = np.array([0, 1, 2, 3, 4])\n",
    "correct_solution[:-1]"
   ]
  },
  {
   "cell_type": "code",
   "execution_count": 42,
   "id": "9adb4ecd",
   "metadata": {},
   "outputs": [],
   "source": [
    "def checking_solution(X, V, **kwargs):\n",
    "    # --- Unpack input data from keyword arguments ---\n",
    "    dist = kwargs[\"distance\"]  # Distance/time matrix between all nodes\n",
    "    weight = kwargs[\"demand\"]  # Demand (weight) for each customer node\n",
    "    ready = kwargs[\"readyTime\"]  # Ready time (earliest service time) for each node\n",
    "    due = kwargs[\"dueDate\"]  # Due time (latest service time) for each node\n",
    "    service = kwargs[\"serviceTime\"]  # Service time at each node\n",
    "    vehicle = kwargs[\n",
    "        \"vehicle\"\n",
    "    ]  # Vehicle info: [number of vehicles, capacity per vehicle]\n",
    "    # Get per-vehicle capacities (by indexing with V)\n",
    "    pre_w_cap = np.array([vehicle[1]] * vehicle[0])\n",
    "    w_cap = pre_w_cap[V]\n",
    "\n",
    "    # -- Initialization --\n",
    "    sequence = X  # Route sequence (includes depot at start & end)\n",
    "    n_cust = len(sequence) - 2  # Number of customers (not counting depot nodes)\n",
    "    n_veh = vehicle[0] - 1  # Number of vehicles - 1 (for indexing)\n",
    "    i, k = 0, 0  # i: current position in sequence, k: vehicle index\n",
    "    total_distance = 0  # Store total traveled distance (with penalty if any)\n",
    "\n",
    "    correct_solution = np.array([])\n",
    "\n",
    "    # -- Main loop over each vehicle route --\n",
    "    while k <= n_veh and i <= n_cust:\n",
    "        # Initialize per-route accumulators\n",
    "        route_dist, route_time, weight_load, penaltyCost = 0, 0, 0, 0\n",
    "\n",
    "        if k > 0:\n",
    "            i += 1  # Move to the next start customer for the next vehicle\n",
    "        print(i)\n",
    "        # Start route: depot to first customer\n",
    "        route_dist += dist[0][sequence[i]]  # Distance depot -> first customer\n",
    "        route_time += service[0] + dist[0][sequence[i]]\n",
    "        \n",
    "        correct_solution = np.insert(correct_solution, len(correct_solution), 0)\n",
    "        \n",
    "\n",
    "        # Service + travel time to first customer\n",
    "        weight_load += weight[sequence[i]]  # Initial cargo: first customer demand\n",
    "\n",
    "        if route_time < ready[sequence[i]]:\n",
    "            route_time = ready[sequence[i]]  # Wait if vehicle arrives before ready time\n",
    "\n",
    "        if route_time > due[sequence[i]] or weight_load > w_cap[k]:\n",
    "            penaltyCost += 1e11  # Penalty: arrived after due time (infeasible)\n",
    "            break\n",
    "\n",
    "        # --- Continue visiting customers along this route ---\n",
    "        while i <= n_cust:\n",
    "            route_dist += dist[sequence[i]][sequence[i + 1]]  # Add next leg distance\n",
    "            route_time += service[sequence[i]] + dist[sequence[i]][sequence[i + 1]]\n",
    "\n",
    "            correct_solution = np.insert(\n",
    "                correct_solution, len(correct_solution), sequence[i]\n",
    "            )\n",
    "\n",
    "            # Add service + travel time\n",
    "            weight_load += weight[sequence[i + 1]]  # Add new customer demand\n",
    "\n",
    "            if route_time < ready[sequence[i + 1]]:\n",
    "                route_time = ready[sequence[i + 1]]  # Wait if arrive early at next node\n",
    "\n",
    "            # If time window or capacity violated, backtrack and finish route\n",
    "            if route_time > due[sequence[i + 1]] or weight_load > w_cap[k]:\n",
    "                route_dist -= dist[sequence[i]][sequence[i + 1]]\n",
    "                route_time -= service[sequence[i]] + dist[sequence[i]][sequence[i + 1]]\n",
    "                weight_load -= weight[sequence[i + 1]]\n",
    "\n",
    "                correct_solution = correct_solution[:-1]\n",
    "                break\n",
    "            i += 1\n",
    "\n",
    "        # --- Finish by returning to depot ---\n",
    "        route_dist += dist[sequence[i]][0]  # Add distance to depot\n",
    "        route_time += (\n",
    "            service[sequence[i]] + dist[sequence[i]][0]\n",
    "        )  # Add service at last node + travel to depot\n",
    "    \n",
    "\n",
    "        if route_time > due[0]:\n",
    "            penaltyCost += 1e11  # Penalty: returned to depot too late\n",
    "        # Accumulate this route's total (distance + penalty if any)\n",
    "        total_distance += route_dist + penaltyCost\n",
    "\n",
    "        k += 1  # Next vehicle\n",
    "\n",
    "    return correct_solution"
   ]
  },
  {
   "cell_type": "markdown",
   "id": "4c66f2ca",
   "metadata": {},
   "source": [
    "# Finding Solution\n"
   ]
  },
  {
   "cell_type": "code",
   "execution_count": 23,
   "id": "070010cc",
   "metadata": {},
   "outputs": [],
   "source": [
    "start_algorithm = time.time()\n",
    "best_solution, global_solution_plot = differential_evolution(\n",
    "    objective_func,\n",
    "    bounds=bounds,\n",
    "    population_size=n_pop,\n",
    "    max_generations=maxiters,\n",
    "    Mutation_rate=Mutation_rate,\n",
    "    Crossover_rate=Crossover_rate,\n",
    "    island=island,\n",
    "    migration_rate=migration_rate,\n",
    "    **kwargs,\n",
    ")\n",
    "End_algorithm = time.time()\n",
    "run_algorithm = End_algorithm - start_algorithm"
   ]
  },
  {
   "cell_type": "code",
   "execution_count": 32,
   "id": "3b702c86",
   "metadata": {},
   "outputs": [
    {
     "name": "stdout",
     "output_type": "stream",
     "text": [
      "Sequence : [5 3 4 2 1 8 9 6 7]\n",
      "Vehicle  : [ 2 22 15  4 10 12 11 17 16 20 23  7  5 19  1  8  3  6 13  0 14 21 18  9\n",
      " 24]\n"
     ]
    }
   ],
   "source": [
    "seq = best_solution[: -vehicle[0]].argsort() + 1\n",
    "sort = best_solution[-vehicle[0] :].argsort()\n",
    "print(f'Sequence : {seq}')\n",
    "print(f'Vehicle  : {sort}')"
   ]
  },
  {
   "cell_type": "code",
   "execution_count": 30,
   "id": "f2cbba7b",
   "metadata": {},
   "outputs": [
    {
     "data": {
      "text/plain": [
       "np.float64(115.76667717192957)"
      ]
     },
     "execution_count": 30,
     "metadata": {},
     "output_type": "execute_result"
    }
   ],
   "source": [
    "preserving_strategy(seq, sort, **kwargs)"
   ]
  },
  {
   "cell_type": "code",
   "execution_count": 43,
   "id": "9606f074",
   "metadata": {},
   "outputs": [
    {
     "name": "stdout",
     "output_type": "stream",
     "text": [
      "0\n",
      "5\n",
      "8\n"
     ]
    },
    {
     "data": {
      "text/plain": [
       "array([0., 5., 3., 4., 2., 0., 8., 9., 0.])"
      ]
     },
     "execution_count": 43,
     "metadata": {},
     "output_type": "execute_result"
    }
   ],
   "source": [
    "checking_solution(seq, sort, **kwargs)"
   ]
  },
  {
   "cell_type": "markdown",
   "id": "67978ef3",
   "metadata": {},
   "source": [
    "# Plotting"
   ]
  },
  {
   "cell_type": "code",
   "execution_count": null,
   "id": "b2a9b228",
   "metadata": {},
   "outputs": [],
   "source": [
    "Replication = [i for i in range(len(global_solution_plot))]\n",
    "y1 = global_solution_plot.tolist()\n",
    "fig, ax = plt.subplots(1, figsize=(10, 5))\n",
    "ax.plot(Replication, y1, marker=\".\", label=\"Differential Evoluation Algorithm\")\n",
    "ax.set(\n",
    "    xlabel=\"iteration\",\n",
    "    ylabel=\"Total Distance (Km.)\",\n",
    "    title=\"Differential Evoluation Algorithm Replication\",\n",
    ")\n",
    "ax.grid()\n",
    "ax.legend()\n",
    "plt.show()"
   ]
  },
  {
   "cell_type": "code",
   "execution_count": null,
   "id": "5ae6aff9",
   "metadata": {},
   "outputs": [],
   "source": [
    "y1[-1]"
   ]
  }
 ],
 "metadata": {
  "kernelspec": {
   "display_name": "rl-meta-test (3.12.10)",
   "language": "python",
   "name": "python3"
  },
  "language_info": {
   "codemirror_mode": {
    "name": "ipython",
    "version": 3
   },
   "file_extension": ".py",
   "mimetype": "text/x-python",
   "name": "python",
   "nbconvert_exporter": "python",
   "pygments_lexer": "ipython3",
   "version": "3.12.10"
  }
 },
 "nbformat": 4,
 "nbformat_minor": 5
}
