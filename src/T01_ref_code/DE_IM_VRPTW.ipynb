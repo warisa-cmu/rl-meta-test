{
 "cells": [
  {
   "cell_type": "markdown",
   "id": "daf30c3f",
   "metadata": {},
   "source": [
    "# Import Library\n"
   ]
  },
  {
   "cell_type": "code",
   "execution_count": 1,
   "id": "1467843e",
   "metadata": {},
   "outputs": [],
   "source": [
    "import numpy as np\n",
    "import pandas as pd\n",
    "import matplotlib.pyplot as plt\n",
    "import time"
   ]
  },
  {
   "cell_type": "markdown",
   "id": "046ac801",
   "metadata": {},
   "source": [
    "# Euclidean distance function"
   ]
  },
  {
   "cell_type": "code",
   "execution_count": 2,
   "id": "ca2c8ff1",
   "metadata": {},
   "outputs": [
    {
     "name": "stdout",
     "output_type": "stream",
     "text": [
      "[[0.         3.60555128 3.16227766 7.07106781]\n",
      " [3.60555128 0.         2.23606798 3.60555128]\n",
      " [3.16227766 2.23606798 0.         4.47213595]\n",
      " [7.07106781 3.60555128 4.47213595 0.        ]]\n"
     ]
    }
   ],
   "source": [
    "def compute_euclidean_distance_matrix(locations):\n",
    "    \"\"\"\n",
    "    Compute Euclidean distance matrix for a list of locations.\n",
    "    Args:\n",
    "        locations: numpy array or list of shape (N, 2), with [x, y] coordinates for each node (depot + customers)\n",
    "    Returns:\n",
    "        distance_matrix: numpy array of shape (N, N) where (i, j) is the distance between node i and j\n",
    "    \"\"\"\n",
    "    locations = np.array(locations)\n",
    "    diff = locations[:, np.newaxis, :] - locations[np.newaxis, :, :]\n",
    "    distance_matrix = np.sqrt(np.sum(diff**2, axis=-1))\n",
    "    return distance_matrix\n",
    "\n",
    "\n",
    "# Example usage:\n",
    "# Suppose depot at (0,0), customer1 at (2,3), customer2 at (3,1), customer3 at (5,5)\n",
    "locations = [\n",
    "    [0, 0],  # Depot\n",
    "    [2, 3],  # Customer 1\n",
    "    [3, 1],  # Customer 2\n",
    "    [5, 5],  # Customer 3\n",
    "]\n",
    "dist_matrix = compute_euclidean_distance_matrix(locations)\n",
    "print(dist_matrix)"
   ]
  },
  {
   "cell_type": "markdown",
   "id": "8b2dc4af",
   "metadata": {},
   "source": [
    "# Import Data"
   ]
  },
  {
   "cell_type": "code",
   "execution_count": 3,
   "id": "db3eafc6",
   "metadata": {},
   "outputs": [],
   "source": [
    "# Load CSV files\n",
    "df_customers = pd.read_excel(\n",
    "    r\"C:\\rl-meta-test\\src\\Source\\Solomon datasets\\c101.xlsx\", sheet_name=\"customer\"\n",
    ")\n",
    "df_dataInfo = pd.read_excel(\n",
    "    r\"C:\\rl-meta-test\\src\\Source\\Solomon datasets\\c101.xlsx\", sheet_name=\"vehicle\"\n",
    ")"
   ]
  },
  {
   "cell_type": "markdown",
   "id": "02e2dfcc",
   "metadata": {},
   "source": [
    "# Data Preparation"
   ]
  },
  {
   "cell_type": "markdown",
   "id": "6ee4f167",
   "metadata": {},
   "source": [
    "Fully data"
   ]
  },
  {
   "cell_type": "code",
   "execution_count": null,
   "id": "41bb908b",
   "metadata": {},
   "outputs": [],
   "source": [
    "# Extract coordinates (x, y) of customers (including depot) and convert to NumPy array\n",
    "xycoord = df_customers.iloc[:, 1:3].to_numpy()\n",
    "distance = compute_euclidean_distance_matrix(xycoord).round(2)  # Calculate distance\n",
    "# distance = pd.read_csv(\n",
    "#    r\"C:\\rl-meta-test\\src\\Source\\solomon_data\\solomon25_csv\\distance_matrix\\c101distanceMatrix.csv\"\n",
    "# ).to_numpy()\n",
    "\n",
    "\n",
    "# Extract demand for each customer as NumPy array\n",
    "demand = df_customers.iloc[:, 3].to_numpy()\n",
    "\n",
    "# Extract 'ready time' (earliest time service can begin at each customer)\n",
    "readyTime = df_customers.iloc[:, 4].to_numpy()\n",
    "\n",
    "# Extract 'due date' (latest time service must begin at each customer)\n",
    "dueDate = df_customers.iloc[:, 5].to_numpy()\n",
    "\n",
    "# Extract service time required at each customer\n",
    "serviceTime = df_customers.iloc[:, 6].to_numpy()\n",
    "\n",
    "# Extract vehicle information (such as capacity, number of vehicles, etc.) from the first row of df_dataInfo\n",
    "vehicle = df_dataInfo.iloc[0, :].to_numpy()\n",
    "\n",
    "kwargs = {\n",
    "    \"distance\": distance,\n",
    "    \"demand\": demand,\n",
    "    \"readyTime\": readyTime,\n",
    "    \"dueDate\": dueDate,\n",
    "    \"serviceTime\": serviceTime,\n",
    "    \"vehicle\": vehicle,\n",
    "}\n"
   ]
  },
  {
   "cell_type": "markdown",
   "id": "ad14cd03",
   "metadata": {},
   "source": [
    "slicing data"
   ]
  },
  {
   "cell_type": "code",
   "execution_count": 4,
   "id": "73871a76",
   "metadata": {},
   "outputs": [],
   "source": [
    "customer = 10\n",
    "\n",
    "# Extract coordinates (x, y) of customers (including depot) and convert to NumPy array\n",
    "xycoord = df_customers.iloc[:customer, 1:3].to_numpy()\n",
    "distance = compute_euclidean_distance_matrix(xycoord)  # Calculate distance\n",
    "# distance = pd.read_csv(\n",
    "#    r\"C:\\rl-meta-test\\src\\Source\\solomon_data\\solomon25_csv\\distance_matrix\\c101distanceMatrix.csv\"\n",
    "# ).to_numpy()\n",
    "\n",
    "\n",
    "# Extract demand for each customer as NumPy array\n",
    "demand = df_customers.iloc[:customer, 3].to_numpy()\n",
    "\n",
    "# Extract 'ready time' (earliest time service can begin at each customer)\n",
    "readyTime = df_customers.iloc[:customer, 4].to_numpy()\n",
    "\n",
    "# Extract 'due date' (latest time service must begin at each customer)\n",
    "dueDate = df_customers.iloc[:customer, 5].to_numpy()\n",
    "\n",
    "# Extract service time required at each customer\n",
    "serviceTime = df_customers.iloc[:customer, 6].to_numpy()\n",
    "\n",
    "# Extract vehicle information (such as capacity, number of vehicles, etc.) from the first row of df_dataInfo\n",
    "vehicle = df_dataInfo.iloc[0, :].to_numpy()\n",
    "\n",
    "kwargs = {\n",
    "    \"distance\": distance,\n",
    "    \"demand\": demand,\n",
    "    \"readyTime\": readyTime,\n",
    "    \"dueDate\": dueDate,\n",
    "    \"serviceTime\": serviceTime,\n",
    "    \"vehicle\": vehicle,\n",
    "}\n"
   ]
  },
  {
   "cell_type": "markdown",
   "id": "22fca928",
   "metadata": {},
   "source": [
    "# Differential Evolutional Algorithm Parameters"
   ]
  },
  {
   "cell_type": "code",
   "execution_count": 5,
   "id": "05d6cc19",
   "metadata": {},
   "outputs": [],
   "source": [
    "dimensions = len(distance) - 1 + vehicle[0]\n",
    "maxiters = 100\n",
    "n_pop = 100\n",
    "bounds = np.array([[0, 1]] * dimensions)\n",
    "Mutation_rate = np.array([0.9, 0.5])\n",
    "Crossover_rate = np.array([0.5, 0.1])\n",
    "\n",
    "island = 2\n",
    "migration_rate = 0.5"
   ]
  },
  {
   "cell_type": "markdown",
   "id": "bee56017",
   "metadata": {},
   "source": [
    "# Differential Evolutional Algorithm\n"
   ]
  },
  {
   "cell_type": "code",
   "execution_count": 6,
   "id": "3b419211",
   "metadata": {},
   "outputs": [],
   "source": [
    "def differential_evolution(\n",
    "    objective_func,\n",
    "    bounds,\n",
    "    population_size=n_pop,\n",
    "    max_generations=maxiters,\n",
    "    Mutation_rate=Mutation_rate,\n",
    "    Crossover_rate=Crossover_rate,\n",
    "    island=island,\n",
    "    migration_rate=migration_rate,\n",
    "    **kwargs,\n",
    "):\n",
    "    global_solution = np.array([])\n",
    "    \n",
    "    for num_island in range(island):\n",
    "        if num_island == 0:\n",
    "            # Initialize population\n",
    "            population = np.random.uniform(\n",
    "                bounds[:, 0], bounds[:, 1], (population_size, len(bounds))\n",
    "            )\n",
    "        else:\n",
    "            # Initialize population\n",
    "            population = np.random.uniform(\n",
    "                bounds[:, 0], bounds[:, 1], (population_size, len(bounds))\n",
    "            )\n",
    "            migration_cost = np.array([])\n",
    "            for obj in range(len(population)):\n",
    "                migration_cost = np.insert(\n",
    "                    migration_cost,\n",
    "                    len(migration_cost),\n",
    "                    objective_func(population[obj], **kwargs),\n",
    "                )\n",
    "\n",
    "            idx_good_migration = migration_cost.argsort()\n",
    "            idx_bad_migration = np.flip(idx_good_migration)[\n",
    "                : int(population_size * migration_rate)\n",
    "            ]\n",
    "\n",
    "            population[idx_bad_migration] = migration_population\n",
    "\n",
    "        Upperbound_Mutation = Mutation_rate[1]\n",
    "        Lowerbound_Mutation = Mutation_rate[0]\n",
    "        Upperbound_Crossover_rate = Crossover_rate[1]\n",
    "        Lowerbound_Crossover_rate = Crossover_rate[0]\n",
    "        F = Mutation_rate[0]\n",
    "        CR = Crossover_rate[0]\n",
    "\n",
    "        for generation in range(max_generations):\n",
    "            # print(f'Iteration {generation}')\n",
    "            current_cost = np.array([])\n",
    "            F += (Upperbound_Mutation - Lowerbound_Mutation) / max_generations\n",
    "            CR += (\n",
    "                Upperbound_Crossover_rate - Lowerbound_Crossover_rate\n",
    "            ) / max_generations\n",
    "            for i in range(population_size):\n",
    "                # Mutation\n",
    "                indices = [idx for idx in range(population_size) if idx != i]\n",
    "                a, b, c = population[np.random.choice(indices, 3, replace=False)]\n",
    "                mutant = population[i] + F * (b - c)\n",
    "\n",
    "                # Crossover\n",
    "                crossover_prob = np.random.rand(len(bounds))\n",
    "                trial = np.where(crossover_prob < CR, mutant, population[i])\n",
    "\n",
    "                # Selection\n",
    "                fitness_trial = objective_func(trial, **kwargs)\n",
    "                fitness_current = objective_func(population[i], **kwargs)\n",
    "\n",
    "                if fitness_trial < fitness_current:\n",
    "                    population[i] = trial\n",
    "                    current_cost = np.insert(\n",
    "                        current_cost, len(current_cost), fitness_trial\n",
    "                    )\n",
    "                else:\n",
    "                    current_cost = np.insert(\n",
    "                        current_cost, len(current_cost), fitness_current\n",
    "                    )\n",
    "\n",
    "            idx_best_migration = current_cost.argsort()[\n",
    "                : int(population_size * migration_rate)\n",
    "            ]\n",
    "            migration_population = population[idx_best_migration]\n",
    "            \n",
    "\n",
    "            best_index_plot = current_cost[np.argmin(current_cost)]\n",
    "            global_solution = np.insert(\n",
    "                global_solution, len(global_solution), best_index_plot\n",
    "            )\n",
    "\n",
    "        # Find the best solution\n",
    "        best_index = np.argmin(\n",
    "            [objective_func(individual, **kwargs) for individual in population]\n",
    "        )\n",
    "        best_solution = population[best_index]\n",
    "\n",
    "    return best_solution, global_solution"
   ]
  },
  {
   "cell_type": "markdown",
   "id": "a5d3319f",
   "metadata": {},
   "source": [
    "# Decoding"
   ]
  },
  {
   "cell_type": "markdown",
   "id": "fbd2ca72",
   "metadata": {},
   "source": [
    "For experimental"
   ]
  },
  {
   "cell_type": "code",
   "execution_count": 7,
   "id": "7d582960",
   "metadata": {},
   "outputs": [],
   "source": [
    "def objective_func(x, **kwargs):\n",
    "    vehicle = kwargs[\"vehicle\"]\n",
    "    seq = x[: -vehicle[0]].argsort() + 1\n",
    "    sort = x[-vehicle[0] :].argsort()\n",
    "    j = f_per_particle(\n",
    "        seq, sort, **kwargs\n",
    "    )  # [f_per_particle1(x[i], sort[i], i, **kwargs) if i <= 2 else f_per_particle(x[i], sort[i], **kwargs) for i in range(n_particles)]        # Calculate each particle.\n",
    "    return np.array(j)\n",
    "\n",
    "\n",
    "def f_per_particle(m, s, **kwargs):\n",
    "    X = m  # Sequence\n",
    "    V = s  # Vehicle\n",
    "    obj_val = preserving_strategy(X, V, **kwargs)  # Call Preserving strategy.\n",
    "    return obj_val\n",
    "\n",
    "def preserving_strategy(X, V, **kwargs):\n",
    "    # --- Unpack input data from keyword arguments ---\n",
    "    dist = kwargs[\"distance\"]  # Distance/time matrix between all nodes\n",
    "    weight = kwargs[\"demand\"]  # Demand (weight) for each customer node\n",
    "    ready = kwargs[\"readyTime\"]  # Ready time (earliest service time) for each node\n",
    "    due = kwargs[\"dueDate\"]  # Due time (latest service time) for each node\n",
    "    service = kwargs[\"serviceTime\"]  # Service time at each node\n",
    "    vehicle = kwargs[\n",
    "        \"vehicle\"\n",
    "    ]  # Vehicle info: [number of vehicles, capacity per vehicle]\n",
    "    # Get per-vehicle capacities (by indexing with V)\n",
    "    pre_w_cap = np.array([vehicle[1]] * vehicle[0])\n",
    "    w_cap = pre_w_cap[V]\n",
    "\n",
    "    # -- Initialization --\n",
    "    sequence = X  # Route sequence (includes depot at start & end)\n",
    "    n_cust = len(sequence) - 2  # Number of customers (not counting depot nodes)\n",
    "    n_veh = vehicle[0] - 1  # Number of vehicles - 1 (for indexing)\n",
    "    i, k = 0, 0  # i: current position in sequence, k: vehicle index\n",
    "    total_distance = 0  # Store total traveled distance (with penalty if any)\n",
    "\n",
    "    # -- Main loop over each vehicle route --\n",
    "    while k <= n_veh and i <= n_cust:\n",
    "        # Initialize per-route accumulators\n",
    "        route_dist, route_time, weight_load, penaltyCost = 0, 0, 0, 0\n",
    "\n",
    "        if k > 0:\n",
    "            i += 1  # Move to the next start customer for the next vehicle\n",
    "        # Start route: depot to first customer\n",
    "        route_dist += dist[0][sequence[i]]  # Distance depot -> first customer\n",
    "        route_time += (\n",
    "            service[0] + dist[0][sequence[i]]\n",
    "        )  # Service + travel time to first customer\n",
    "        weight_load += weight[sequence[i]]  # Initial cargo: first customer demand\n",
    "\n",
    "        if route_time < ready[sequence[i]]:\n",
    "            route_time = ready[sequence[i]]  # Wait if vehicle arrives before ready time\n",
    "\n",
    "        if route_time > due[sequence[i]] or weight_load > w_cap[k]:\n",
    "            penaltyCost += 1e11  # Penalty: arrived after due time (infeasible)\n",
    "            break\n",
    "\n",
    "        # --- Continue visiting customers along this route ---\n",
    "        while i <= n_cust:\n",
    "            route_dist += dist[sequence[i]][sequence[i + 1]]  # Add next leg distance\n",
    "            route_time += (\n",
    "                service[sequence[i]] + dist[sequence[i]][sequence[i + 1]]\n",
    "            )  # Add service + travel time\n",
    "            weight_load += weight[sequence[i + 1]]  # Add new customer demand\n",
    "\n",
    "            if route_time < ready[sequence[i + 1]]:\n",
    "                route_time = ready[sequence[i + 1]]  # Wait if arrive early at next node\n",
    "\n",
    "            # If time window or capacity violated, backtrack and finish route\n",
    "            if route_time > due[sequence[i + 1]] or weight_load > w_cap[k]:\n",
    "                route_dist -= dist[sequence[i]][sequence[i + 1]]\n",
    "                route_time -= service[sequence[i]] + dist[sequence[i]][sequence[i + 1]]\n",
    "                weight_load -= weight[sequence[i + 1]]\n",
    "                break\n",
    "            i += 1\n",
    "\n",
    "        # --- Finish by returning to depot ---\n",
    "        route_dist += dist[sequence[i]][0]  # Add distance to depot\n",
    "        route_time += (\n",
    "            service[sequence[i]] + dist[sequence[i]][0]\n",
    "        )  # Add service at last node + travel to depot\n",
    "        if route_time > due[0]:\n",
    "            penaltyCost += 1e11  # Penalty: returned to depot too late\n",
    "        # Accumulate this route's total (distance + penalty if any)\n",
    "        total_distance += route_dist + penaltyCost\n",
    "        k += 1  # Next vehicle\n",
    "\n",
    "    return (\n",
    "        total_distance  # Return overall objective (distance with penalty if violated)\n",
    "    )\n"
   ]
  },
  {
   "cell_type": "markdown",
   "id": "e32ce84d",
   "metadata": {},
   "source": [
    "For testing"
   ]
  },
  {
   "cell_type": "code",
   "execution_count": null,
   "id": "ab3aa66f",
   "metadata": {},
   "outputs": [],
   "source": [
    "demand.sum()"
   ]
  },
  {
   "cell_type": "code",
   "execution_count": null,
   "id": "dc02d11f",
   "metadata": {},
   "outputs": [],
   "source": [
    "def objective_func(x, **kwargs):\n",
    "    vehicle = kwargs[\"vehicle\"]\n",
    "    seq = x[: -vehicle[0]].argsort() + 1\n",
    "    sort = x[-vehicle[0] :].argsort()\n",
    "    j = f_per_particle(\n",
    "        seq, sort, **kwargs\n",
    "    )  # [f_per_particle1(x[i], sort[i], i, **kwargs) if i <= 2 else f_per_particle(x[i], sort[i], **kwargs) for i in range(n_particles)]        # Calculate each particle.\n",
    "    return np.array(j)\n",
    "\n",
    "\n",
    "def f_per_particle(m, s, **kwargs):\n",
    "    X = m  # Sequence\n",
    "    V = s  # Vehicle\n",
    "    obj_val = preserving_strategy(X, V, **kwargs)  # Call Preserving strategy.\n",
    "    return obj_val\n",
    "\n",
    "def preserving_strategy(X, V, **kwargs):\n",
    "    # --- Unpack input data from keyword arguments ---\n",
    "    dist = kwargs[\"distance\"]  # Distance/time matrix between all nodes\n",
    "    weight = kwargs[\"demand\"]  # Demand (weight) for each customer node\n",
    "    ready = kwargs[\"readyTime\"]  # Ready time (earliest service time) for each node\n",
    "    due = kwargs[\"dueDate\"]  # Due time (latest service time) for each node\n",
    "    service = kwargs[\"serviceTime\"]  # Service time at each node\n",
    "    vehicle = kwargs[\n",
    "        \"vehicle\"\n",
    "    ]  # Vehicle info: [number of vehicles, capacity per vehicle]\n",
    "    # Get per-vehicle capacities (by indexing with V)\n",
    "    pre_w_cap = np.array([vehicle[1]] * vehicle[0])\n",
    "    w_cap = pre_w_cap[V]\n",
    "\n",
    "    # -- Initialization --\n",
    "    sequence = X  # Route sequence (includes depot at start & end)\n",
    "    n_cust = len(sequence) - 2  # Number of customers (not counting depot nodes)\n",
    "    n_veh = vehicle[0] - 1  # Number of vehicles - 1 (for indexing)\n",
    "    i, k = 0, 0  # i: current position in sequence, k: vehicle index\n",
    "    total_distance = 0  # Store total traveled distance (with penalty if any)\n",
    "\n",
    "    # -- Main loop over each vehicle route --\n",
    "    while k <= n_veh and i <= n_cust:\n",
    "        # Initialize per-route accumulators\n",
    "        route_dist, route_time, weight_load, penaltyCost = 0, 0, 0, 0\n",
    "\n",
    "        if k > 0:\n",
    "            i += 1  # Move to the next start customer for the next vehicle\n",
    "        # Start route: depot to first customer\n",
    "        route_dist += dist[0][sequence[i]]  # Distance depot -> first customer\n",
    "        route_time += (\n",
    "            service[0] + dist[0][sequence[i]]\n",
    "        )  # Service + travel time to first customer\n",
    "        weight_load += weight[sequence[i]]  # Initial cargo: first customer demand\n",
    "\n",
    "        if route_time < ready[sequence[i]]:\n",
    "            route_time = ready[sequence[i]]  # Wait if vehicle arrives before ready time\n",
    "\n",
    "        if route_time > due[sequence[i]] or weight_load > 75:\n",
    "            penaltyCost += 1e11  # Penalty: arrived after due time (infeasible)\n",
    "            break\n",
    "\n",
    "        # --- Continue visiting customers along this route ---\n",
    "        while i <= n_cust:\n",
    "            route_dist += dist[sequence[i]][sequence[i + 1]]  # Add next leg distance\n",
    "            route_time += (\n",
    "                service[sequence[i]] + dist[sequence[i]][sequence[i + 1]]\n",
    "            )  # Add service + travel time\n",
    "            weight_load += weight[sequence[i + 1]]  # Add new customer demand\n",
    "\n",
    "            if route_time < ready[sequence[i + 1]]:\n",
    "                route_time = ready[sequence[i + 1]]  # Wait if arrive early at next node\n",
    "\n",
    "            # If time window or capacity violated, backtrack and finish route\n",
    "            if route_time > due[sequence[i + 1]] or weight_load > 75:\n",
    "                route_dist -= dist[sequence[i]][sequence[i + 1]]\n",
    "                route_time -= service[sequence[i]] + dist[sequence[i]][sequence[i + 1]]\n",
    "                weight_load -= weight[sequence[i + 1]]\n",
    "                break\n",
    "            i += 1\n",
    "\n",
    "        # --- Finish by returning to depot ---\n",
    "        route_dist += dist[sequence[i]][0]  # Add distance to depot\n",
    "        route_time += (\n",
    "            service[sequence[i]] + dist[sequence[i]][0]\n",
    "        )  # Add service at last node + travel to depot\n",
    "        if route_time > due[0]:\n",
    "            penaltyCost += 1e11  # Penalty: returned to depot too late\n",
    "        # Accumulate this route's total (distance + penalty if any)\n",
    "        total_distance += route_dist + penaltyCost\n",
    "        k += 1  # Next vehicle\n",
    "\n",
    "    return (\n",
    "        total_distance  # Return overall objective (distance with penalty if violated)\n",
    "    )\n"
   ]
  },
  {
   "cell_type": "markdown",
   "id": "b9f4ecc0",
   "metadata": {},
   "source": [
    "# Checking Solution"
   ]
  },
  {
   "cell_type": "code",
   "execution_count": 13,
   "id": "739489a9",
   "metadata": {},
   "outputs": [],
   "source": [
    "X = seq\n",
    "V = sort"
   ]
  },
  {
   "cell_type": "markdown",
   "id": "07dd19e7",
   "metadata": {},
   "source": [
    "- [x] Calculate distance\n",
    "- [x] Calculate weight\n",
    "- [ ] calculate time Note: please rechecking index of sequence again"
   ]
  },
  {
   "cell_type": "code",
   "execution_count": 14,
   "id": "aa1d9a9e",
   "metadata": {},
   "outputs": [
    {
     "name": "stdout",
     "output_type": "stream",
     "text": [
      "Total travling distance : 51.72040199790072\n",
      "sequence of customer : [0 5 3 7 8 9 6 4 2 1 0]\n"
     ]
    }
   ],
   "source": [
    "# --- Unpack input data from keyword arguments ---\n",
    "dist = kwargs[\"distance\"]  # Distance/time matrix between all nodes\n",
    "weight = kwargs[\"demand\"]  # Demand (weight) for each customer node\n",
    "ready = kwargs[\"readyTime\"]  # Ready time (earliest service time) for each node\n",
    "due = kwargs[\"dueDate\"]  # Due time (latest service time) for each node\n",
    "service = kwargs[\"serviceTime\"]  # Service time at each node\n",
    "vehicle = kwargs[\n",
    "    \"vehicle\"\n",
    "]  # Vehicle info: [number of vehicles, capacity per vehicle]\n",
    "# Get per-vehicle capacities (by indexing with V)\n",
    "pre_w_cap = np.array([vehicle[1]] * vehicle[0])\n",
    "w_cap = pre_w_cap[V]\n",
    "\n",
    "# -- Initialization --\n",
    "sequence = X  # Route sequence (includes depot at start & end)\n",
    "n_cust = len(sequence) - 2  # Number of customers (not counting depot nodes)\n",
    "n_veh = vehicle[0] - 1  # Number of vehicles - 1 (for indexing)\n",
    "i, k = 0, 0  # i: current position in sequence, k: vehicle index\n",
    "total_distance = 0  # Store total traveled distance (with penalty if any)\n",
    "\n",
    "correct_solution = np.array([], dtype=int)\n",
    "\n",
    "# -- Main loop over each vehicle route --\n",
    "while k <= n_veh and i <= n_cust:\n",
    "    # Initialize per-route accumulators\n",
    "    route_dist, route_time, weight_load, penaltyCost = 0, 0, 0, 0\n",
    "\n",
    "    if k > 0:\n",
    "        i += 1  # Move to the next start customer for the next vehicle\n",
    "    # Start route: depot to first customer\n",
    "    route_dist += dist[0][sequence[i]]  # Distance depot -> first customer\n",
    "    route_time += (\n",
    "        service[0] + dist[0][sequence[i]]\n",
    "    )  # Service + travel time to first customer\n",
    "    weight_load += weight[sequence[i]]  # Initial cargo: first customer demand\n",
    "    \n",
    "    ### ADD\n",
    "    correct_solution = np.insert(correct_solution, len(correct_solution), 0)\n",
    "    ###\n",
    "    \n",
    "    if route_time < ready[sequence[i]]:\n",
    "        route_time = ready[sequence[i]]  # Wait if vehicle arrives before ready time\n",
    "\n",
    "    if route_time > due[sequence[i]] or weight_load > w_cap[k]:\n",
    "        penaltyCost += 1e11  # Penalty: arrived after due time (infeasible)\n",
    "        break\n",
    "\n",
    "    # --- Continue visiting customers along this route ---\n",
    "    while i <= n_cust:\n",
    "        ### ADD\n",
    "        correct_solution = np.insert(correct_solution, len(correct_solution), sequence[i])\n",
    "        ###\n",
    "        \n",
    "        route_dist += dist[sequence[i]][sequence[i + 1]]  # Add next leg distance\n",
    "        route_time += (\n",
    "            service[sequence[i]] + dist[sequence[i]][sequence[i + 1]]\n",
    "        )  # Add service + travel time\n",
    "        weight_load += weight[sequence[i + 1]]  # Add new customer demand\n",
    "        \n",
    "        if route_time < ready[sequence[i + 1]]:\n",
    "            route_time = ready[sequence[i + 1]]  # Wait if arrive early at next node\n",
    "\n",
    "        # If time window or capacity violated, backtrack and finish route\n",
    "        if route_time > due[sequence[i + 1]] or weight_load > w_cap[k]:\n",
    "            route_dist -= dist[sequence[i]][sequence[i + 1]]\n",
    "            route_time -= service[sequence[i]] + dist[sequence[i]][sequence[i + 1]]\n",
    "            weight_load -= weight[sequence[i + 1]]\n",
    "            break\n",
    "        i += 1\n",
    "\n",
    "    # --- Finish by returning to depot ---\n",
    "    route_dist += dist[sequence[i]][0]  # Add distance to depot\n",
    "    route_time += (\n",
    "        service[sequence[i]] + dist[sequence[i]][0]\n",
    "    )  # Add service at last node + travel to depot\n",
    "    if route_time > due[0]:\n",
    "        penaltyCost += 1e11  # Penalty: returned to depot too late\n",
    "    # Accumulate this route's total (distance + penalty if any)\n",
    "    total_distance += route_dist + penaltyCost\n",
    "    k += 1  # Next vehicle\n",
    "    \n",
    "correct_solution = np.insert(correct_solution, len(correct_solution), sequence[-1])    \n",
    "correct_solution = np.insert(correct_solution, len(correct_solution), 0)\n",
    "\n",
    "print(f'Total travling distance : {total_distance}')  # Return overall objective (distance with penalty if violated)\n",
    "print(f'sequence of customer : {correct_solution}')"
   ]
  },
  {
   "cell_type": "code",
   "execution_count": 15,
   "id": "c0acefe7",
   "metadata": {},
   "outputs": [
    {
     "data": {
      "text/plain": [
       "array([5, 3, 7, 8, 9, 6, 4, 2, 1])"
      ]
     },
     "execution_count": 15,
     "metadata": {},
     "output_type": "execute_result"
    }
   ],
   "source": [
    "seq"
   ]
  },
  {
   "cell_type": "code",
   "execution_count": 16,
   "id": "fbc4ef73",
   "metadata": {},
   "outputs": [],
   "source": [
    "route1 = np.array([0, 7, 8, 9, 6, 0])\n",
    "route2 = np.array([0, 5, 3, 4, 2, 1, 0])"
   ]
  },
  {
   "cell_type": "code",
   "execution_count": null,
   "id": "935a405a",
   "metadata": {},
   "outputs": [],
   "source": [
    "check_total = 0\n",
    "for i in range(len(correct_solution)-1):\n",
    "    check_total += distance[correct_solution[i]][correct_solution[i+1]]\n",
    "check_total"
   ]
  },
  {
   "cell_type": "code",
   "execution_count": null,
   "id": "58e29faa",
   "metadata": {},
   "outputs": [],
   "source": [
    "total_distance"
   ]
  },
  {
   "cell_type": "code",
   "execution_count": null,
   "id": "bc817639",
   "metadata": {},
   "outputs": [],
   "source": [
    "check_total"
   ]
  },
  {
   "cell_type": "code",
   "execution_count": null,
   "id": "305de744",
   "metadata": {},
   "outputs": [],
   "source": [
    "total_distance == check_total"
   ]
  },
  {
   "cell_type": "code",
   "execution_count": null,
   "id": "5ca825bb",
   "metadata": {},
   "outputs": [],
   "source": [
    "print(f'Weight loading of vehicle 1 : {demand[route1].sum()} Kg.')\n",
    "print(f'Weight loading of vehicle 2 : {demand[route2].sum()} Kg.')"
   ]
  },
  {
   "cell_type": "code",
   "execution_count": null,
   "id": "29b5933f",
   "metadata": {},
   "outputs": [],
   "source": [
    "check_total_time = 0\n",
    "for i in range(len(route1)-1):\n",
    "    check_total_time += service[route1[i]] + distance[route1[i]][route1[i+1]]\n",
    "    print(f'Ready time : {readyTime[route1[i+1]]}')\n",
    "    print(f'Current traveling time : {check_total_time} mins.')\n",
    "    print(f'Duedate : {dueDate[route1[i+1]]}')\n",
    "    print('*'*30)\n",
    "    if check_total_time < readyTime[route1[i+1]]:\n",
    "        check_total_time = readyTime[route1[i+1]]\n",
    "    elif check_total_time > dueDate[route1[i+1]]:\n",
    "        print('Error')\n",
    "check_total_time"
   ]
  },
  {
   "cell_type": "code",
   "execution_count": null,
   "id": "603595c1",
   "metadata": {},
   "outputs": [],
   "source": [
    "check_total_time = 0\n",
    "for i in range(len(route2)-1):\n",
    "    check_total_time += service[route2[i]] + distance[route2[i]][route2[i+1]]\n",
    "    print(f'Ready time : {readyTime[route2[i+1]]}')\n",
    "    print(f'Current traveling time : {check_total_time} mins.')\n",
    "    print(f'Duedate : {dueDate[route2[i+1]]}')\n",
    "    print('*'*30)\n",
    "    if check_total_time < readyTime[route2[i+1]]:\n",
    "        check_total_time = readyTime[route2[i+1]]\n",
    "    elif check_total_time > dueDate[route2[i+1]]:\n",
    "        print('Error')\n",
    "check_total_time"
   ]
  },
  {
   "cell_type": "markdown",
   "id": "4c66f2ca",
   "metadata": {},
   "source": [
    "# Finding Solution\n"
   ]
  },
  {
   "cell_type": "code",
   "execution_count": 8,
   "id": "070010cc",
   "metadata": {},
   "outputs": [],
   "source": [
    "start_algorithm = time.time()\n",
    "best_solution, global_solution_plot = differential_evolution(\n",
    "    objective_func,\n",
    "    bounds=bounds,\n",
    "    population_size=n_pop,\n",
    "    max_generations=maxiters,\n",
    "    Mutation_rate=Mutation_rate,\n",
    "    Crossover_rate=Crossover_rate,\n",
    "    island=island,\n",
    "    migration_rate=migration_rate,\n",
    "    **kwargs,\n",
    ")\n",
    "End_algorithm = time.time()\n",
    "run_algorithm = End_algorithm - start_algorithm"
   ]
  },
  {
   "cell_type": "code",
   "execution_count": 9,
   "id": "3b702c86",
   "metadata": {},
   "outputs": [
    {
     "name": "stdout",
     "output_type": "stream",
     "text": [
      "Sequence : [5 3 7 8 9 6 4 2 1]\n",
      "Vehicle  : [17 15 14  3  4  0  8 13 11  6 18 21 23  5 19 12  7 20  2 10 24 22  1  9\n",
      " 16]\n"
     ]
    }
   ],
   "source": [
    "seq = best_solution[: -vehicle[0]].argsort() + 1\n",
    "sort = best_solution[-vehicle[0] :].argsort()\n",
    "print(f'Sequence : {seq}')\n",
    "print(f'Vehicle  : {sort}')"
   ]
  },
  {
   "cell_type": "code",
   "execution_count": 10,
   "id": "f2cbba7b",
   "metadata": {},
   "outputs": [
    {
     "data": {
      "text/plain": [
       "np.float64(51.72040199790072)"
      ]
     },
     "execution_count": 10,
     "metadata": {},
     "output_type": "execute_result"
    }
   ],
   "source": [
    "preserving_strategy(seq, sort, **kwargs)"
   ]
  },
  {
   "cell_type": "markdown",
   "id": "67978ef3",
   "metadata": {},
   "source": [
    "# Plotting"
   ]
  },
  {
   "cell_type": "code",
   "execution_count": 11,
   "id": "b2a9b228",
   "metadata": {},
   "outputs": [
    {
     "data": {
      "image/png": "[encoded data removed]",
      "text/plain": [
       "<Figure size 1000x500 with 1 Axes>"
      ]
     },
     "metadata": {},
     "output_type": "display_data"
    }
   ],
   "source": [
    "Replication = [i for i in range(len(global_solution_plot))]\n",
    "y1 = global_solution_plot.tolist()\n",
    "fig, ax = plt.subplots(1, figsize=(10, 5))\n",
    "ax.plot(Replication, y1, marker=\".\", label=\"Differential Evoluation Algorithm\")\n",
    "ax.set(\n",
    "    xlabel=\"iteration\",\n",
    "    ylabel=\"Total Distance (Km.)\",\n",
    "    title=\"Differential Evoluation + Island Model Algorithm Replication\",\n",
    ")\n",
    "ax.grid()\n",
    "ax.legend()\n",
    "plt.show()"
   ]
  },
  {
   "cell_type": "code",
   "execution_count": null,
   "id": "5ae6aff9",
   "metadata": {},
   "outputs": [],
   "source": [
    "y1[-1]"
   ]
  }
 ],
 "metadata": {
  "kernelspec": {
   "display_name": "rl-meta-test (3.12.10)",
   "language": "python",
   "name": "python3"
  },
  "language_info": {
   "codemirror_mode": {
    "name": "ipython",
    "version": 3
   },
   "file_extension": ".py",
   "mimetype": "text/x-python",
   "name": "python",
   "nbconvert_exporter": "python",
   "pygments_lexer": "ipython3",
   "version": "3.12.10"
  }
 },
 "nbformat": 4,
 "nbformat_minor": 5
}
