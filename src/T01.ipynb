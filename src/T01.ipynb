{
 "cells": [
  {
   "cell_type": "code",
   "execution_count": 10,
   "id": "4bec29a0",
   "metadata": {},
   "outputs": [],
   "source": [
    "import gymnasium as gym\n",
    "from gymnasium import spaces\n",
    "import numpy as np"
   ]
  },
  {
   "cell_type": "code",
   "execution_count": 11,
   "id": "bada44d4",
   "metadata": {},
   "outputs": [],
   "source": [
    "class MetaEnv(gym.Env):\n",
    "    def __init__(self):\n",
    "        self.observation_space = spaces.Dict(\n",
    "            {\n",
    "                \"agent\": gym.spaces.Box(0, 1, shape=(2,), dtype=int),\n",
    "                \"target\": gym.spaces.Box(0, 1, shape=(2,), dtype=int),\n",
    "            }\n",
    "        )\n",
    "        self.action_space = spaces.Dict(\n",
    "            {\n",
    "                \"mode\": spaces.Discrete(2),\n",
    "                \"params\": spaces.Box(low=0.0, high=1.0, shape=(4,), dtype=np.float32),\n",
    "            }\n",
    "        )\n",
    "\n",
    "    def _get_obs(self):\n",
    "        \"\"\"Convert internal state to observation format.\n",
    "\n",
    "        Returns:\n",
    "            dict: Observation\n",
    "        \"\"\"\n",
    "        return {}\n",
    "\n",
    "    def _get_info(self):\n",
    "        \"\"\"Compute auxiliary information for debugging.\n",
    "\n",
    "        Returns:\n",
    "            dict: Info with distance between agent and target\n",
    "        \"\"\"\n",
    "        return {}\n",
    "\n",
    "    def reset(self, seed=None):\n",
    "        super().reset(seed=seed)\n",
    "        observation = self._get_obs()\n",
    "        info = self._get_info()\n",
    "        return observation, info\n",
    "\n",
    "    def step(self):\n",
    "        reward = 0\n",
    "        terminated = False\n",
    "        truncated = False\n",
    "        observation = self._get_obs()\n",
    "        info = self._get_info()\n",
    "        return observation, reward, terminated, truncated, info"
   ]
  },
  {
   "cell_type": "code",
   "execution_count": 12,
   "id": "f23527af",
   "metadata": {},
   "outputs": [
    {
     "name": "stdout",
     "output_type": "stream",
     "text": [
      "Environment has issues: The first element returned by `env.reset()` is not within the observation space.\n"
     ]
    }
   ],
   "source": [
    "from gymnasium.utils.env_checker import check_env\n",
    "\n",
    "env = MetaEnv()\n",
    "\n",
    "# This will catch many common issues\n",
    "try:\n",
    "    check_env(env)\n",
    "    print(\"Environment passes all checks!\")\n",
    "except Exception as e:\n",
    "    print(f\"Environment has issues: {e}\")"
   ]
  },
  {
   "cell_type": "code",
   "execution_count": 16,
   "id": "4a1588dc",
   "metadata": {},
   "outputs": [
    {
     "data": {
      "text/plain": [
       "{'mode': np.int64(0),\n",
       " 'params': array([0.9976557 , 0.6399497 , 0.7308948 , 0.16882925], dtype=float32)}"
      ]
     },
     "execution_count": 16,
     "metadata": {},
     "output_type": "execute_result"
    }
   ],
   "source": [
    "env.action_space.sample()"
   ]
  },
  {
   "cell_type": "code",
   "execution_count": 20,
   "id": "6b988e41",
   "metadata": {},
   "outputs": [
    {
     "data": {
      "text/plain": [
       "Dict('agent': Box(0, 1, (2,), int64), 'target': Box(0, 1, (2,), int64))"
      ]
     },
     "execution_count": 20,
     "metadata": {},
     "output_type": "execute_result"
    }
   ],
   "source": [
    "env.observation_space"
   ]
  },
  {
   "cell_type": "code",
   "execution_count": null,
   "id": "c6747a5c",
   "metadata": {},
   "outputs": [],
   "source": []
  }
 ],
 "metadata": {
  "kernelspec": {
   "display_name": "rl-meta-test",
   "language": "python",
   "name": "python3"
  },
  "language_info": {
   "codemirror_mode": {
    "name": "ipython",
    "version": 3
   },
   "file_extension": ".py",
   "mimetype": "text/x-python",
   "name": "python",
   "nbconvert_exporter": "python",
   "pygments_lexer": "ipython3",
   "version": "3.10.17"
  }
 },
 "nbformat": 4,
 "nbformat_minor": 5
}
