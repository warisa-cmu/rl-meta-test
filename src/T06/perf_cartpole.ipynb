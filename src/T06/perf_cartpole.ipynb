{
 "cells": [
  {
   "cell_type": "code",
   "execution_count": 8,
   "id": "c887b85b",
   "metadata": {},
   "outputs": [],
   "source": [
    "import gymnasium as gym\n",
    "import numpy as np"
   ]
  },
  {
   "cell_type": "code",
   "execution_count": 9,
   "id": "91a69e2e",
   "metadata": {},
   "outputs": [],
   "source": [
    "MAX_EPISODES_STEPS = 1000\n",
    "\n",
    "\n",
    "def make_env():\n",
    "    env = gym.make(\"CartPole-v1\", render_mode=\"rgb_array\")\n",
    "    # increase episode length from 200 to 4000\n",
    "    env._max_episode_steps = MAX_EPISODES_STEPS\n",
    "    np.random.seed(13)\n",
    "    env.reset()\n",
    "    return env"
   ]
  },
  {
   "cell_type": "code",
   "execution_count": 10,
   "id": "121a224f",
   "metadata": {},
   "outputs": [
    {
     "name": "stdout",
     "output_type": "stream",
     "text": [
      "Execution time per action: 0.000209 seconds\n"
     ]
    }
   ],
   "source": [
    "import time\n",
    "\n",
    "env = make_env()\n",
    "\n",
    "start_time = time.perf_counter()\n",
    "next_state, r, done, _, _ = env.step(env.action_space.sample())\n",
    "end_time = time.perf_counter()\n",
    "elapsed_time = end_time - start_time\n",
    "print(f\"Execution time per action: {elapsed_time:.6f} seconds\")\n"
   ]
  }
 ],
 "metadata": {
  "kernelspec": {
   "display_name": "rl-meta-test",
   "language": "python",
   "name": "python3"
  },
  "language_info": {
   "codemirror_mode": {
    "name": "ipython",
    "version": 3
   },
   "file_extension": ".py",
   "mimetype": "text/x-python",
   "name": "python",
   "nbconvert_exporter": "python",
   "pygments_lexer": "ipython3",
   "version": "3.12.10"
  }
 },
 "nbformat": 4,
 "nbformat_minor": 5
}
