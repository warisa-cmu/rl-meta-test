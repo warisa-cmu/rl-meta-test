{
 "cells": [
  {
   "cell_type": "code",
   "execution_count": 83,
   "id": "4363ef9d",
   "metadata": {},
   "outputs": [],
   "source": [
    "import datetime\n",
    "\n",
    "import matplotlib.pyplot as plt\n",
    "import numpy as np\n",
    "import pandas as pd\n",
    "\n",
    "from T02_prototype_class.DE_IM_VRPTW_class2 import VRPTW"
   ]
  },
  {
   "cell_type": "code",
   "execution_count": 84,
   "id": "4afd1cca",
   "metadata": {},
   "outputs": [],
   "source": [
    "# Load CSV file\n",
    "distance = (\n",
    "    pd.read_csv(\n",
    "        r\"../Source/solomon_data/solomon25_csv/distance_matrix/c101distanceMatrix.csv\"\n",
    "    )\n",
    "    .fillna(9999999)\n",
    "    .to_numpy()\n",
    ")\n",
    "\n",
    "df_vehicle = (\n",
    "    pd.read_csv(r\"../Source/solomon_data/solomon25_csv/data_info/c101dataInfo.csv\")\n",
    "    .iloc[:, :2]\n",
    "    .to_numpy(dtype=int)\n",
    ")\n",
    "vehicle = df_vehicle[0]\n",
    "\n",
    "df_101 = pd.read_csv(\n",
    "    r\"../Source/solomon_data/solomon25_csv/customers/c101customers.csv\"\n",
    ").iloc[:, 3:]\n",
    "demand = df_101.iloc[:, 0].to_numpy()\n",
    "readyTime = df_101.iloc[:, 1].to_numpy()\n",
    "dueDate = df_101.iloc[:, 2].to_numpy()\n",
    "serviceTime = df_101.iloc[:, -1].to_numpy()\n",
    "\n",
    "kwargs = {\n",
    "    \"distance\": distance,\n",
    "    \"demand\": demand,\n",
    "    \"readyTime\": readyTime,\n",
    "    \"dueDate\": dueDate,\n",
    "    \"serviceTime\": serviceTime,\n",
    "    \"vehicle\": vehicle,\n",
    "}\n",
    "\n",
    "dimensions = len(distance) - 1 + vehicle[0]\n",
    "interval_it = 10\n",
    "population_size = 100\n",
    "bounds = np.array([[0, 1]] * dimensions)\n",
    "F_rate = 0.5\n",
    "CR_rate = 0.5\n",
    "MG_rate = 0.5"
   ]
  },
  {
   "cell_type": "code",
   "execution_count": 85,
   "id": "cf7344dc",
   "metadata": {},
   "outputs": [],
   "source": [
    "vrp = VRPTW(\n",
    "    population_size=population_size,\n",
    "    dimensions=dimensions,\n",
    "    bounds=bounds,\n",
    "    distance=distance,\n",
    "    demand=demand,\n",
    "    readyTime=readyTime,\n",
    "    dueDate=dueDate,\n",
    "    serviceTime=serviceTime,\n",
    "    vehicle=vehicle,\n",
    "    percent_convergence_lookback_it=interval_it,\n",
    "    solution_scale_factor=700,\n",
    ")"
   ]
  },
  {
   "cell_type": "code",
   "execution_count": 86,
   "id": "411ac5ef",
   "metadata": {},
   "outputs": [
    {
     "name": "stdout",
     "output_type": "stream",
     "text": [
      "Execution time: 0.421675 seconds\n"
     ]
    }
   ],
   "source": [
    "import time\n",
    "\n",
    "\n",
    "vrp = VRPTW(\n",
    "    population_size=population_size,\n",
    "    dimensions=dimensions,\n",
    "    bounds=bounds,\n",
    "    distance=distance,\n",
    "    demand=demand,\n",
    "    readyTime=readyTime,\n",
    "    dueDate=dueDate,\n",
    "    serviceTime=serviceTime,\n",
    "    vehicle=vehicle,\n",
    "    percent_convergence_lookback_it=interval_it,\n",
    "    solution_scale_factor=700,\n",
    ")\n",
    "\n",
    "start_time = time.perf_counter()\n",
    "vrp.reset()\n",
    "vrp.get_current_state()\n",
    "vrp.evolve(n_iteration=interval_it)\n",
    "end_time = time.perf_counter()\n",
    "elapsed_time = end_time - start_time\n",
    "print(f\"Execution time: {elapsed_time:.6f} seconds\")"
   ]
  }
 ],
 "metadata": {
  "kernelspec": {
   "display_name": "rl-meta-test",
   "language": "python",
   "name": "python3"
  },
  "language_info": {
   "codemirror_mode": {
    "name": "ipython",
    "version": 3
   },
   "file_extension": ".py",
   "mimetype": "text/x-python",
   "name": "python",
   "nbconvert_exporter": "python",
   "pygments_lexer": "ipython3",
   "version": "3.12.10"
  }
 },
 "nbformat": 4,
 "nbformat_minor": 5
}
