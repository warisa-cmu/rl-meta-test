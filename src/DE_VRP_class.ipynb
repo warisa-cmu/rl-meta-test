{
 "cells": [
  {
   "cell_type": "code",
   "execution_count": null,
   "id": "b66d79aa",
   "metadata": {},
   "outputs": [
    {
     "ename": "",
     "evalue": "",
     "output_type": "error",
     "traceback": [
      "\u001b[1;31mRunning cells with 'rl-meta-test (3.10.18) (Python 3.10.18)' requires the ipykernel package.\n",
      "\u001b[1;31mInstall 'ipykernel' into the Python environment. \n",
      "\u001b[1;31mCommand: 'c:/rl-meta-test/.venv/Scripts/python.exe -m pip install ipykernel -U --force-reinstall'"
     ]
    }
   ],
   "source": [
    "class VRP():\n",
    "    def __init__(self, n_pop, dimensions, maxiters, bounds, Mutation_rate, Crossover_rate):\n",
    "        self.n_pop = n_pop\n",
    "        self.dimensions = dimensions\n",
    "        self.maxiters = maxiters\n",
    "        self.bounds = bounds\n",
    "        self.Mutation_rate = Mutation_rate\n",
    "        self.Crossover_rate = Crossover_rate "
   ]
  },
  {
   "cell_type": "code",
   "execution_count": null,
   "id": "6ba2297e",
   "metadata": {},
   "outputs": [],
   "source": [
    "vrp = VRP(10)\n",
    "\n",
    "vrp.n_pop"
   ]
  },
  {
   "cell_type": "code",
   "execution_count": null,
   "id": "62319cf1",
   "metadata": {},
   "outputs": [],
   "source": []
  },
  {
   "cell_type": "code",
   "execution_count": null,
   "id": "3595a74d",
   "metadata": {},
   "outputs": [],
   "source": []
  }
 ],
 "metadata": {
  "kernelspec": {
   "display_name": "rl-meta-test (3.10.18)",
   "language": "python",
   "name": "python3"
  },
  "language_info": {
   "codemirror_mode": {
    "name": "ipython",
    "version": 3
   },
   "file_extension": ".py",
   "mimetype": "text/x-python",
   "name": "python",
   "nbconvert_exporter": "python",
   "pygments_lexer": "ipython3",
   "version": "3.10.18"
  }
 },
 "nbformat": 4,
 "nbformat_minor": 5
}
