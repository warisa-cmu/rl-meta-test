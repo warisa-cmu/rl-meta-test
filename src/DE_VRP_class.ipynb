{
 "cells": [
  {
   "cell_type": "code",
   "execution_count": 3,
   "id": "b66d79aa",
   "metadata": {},
   "outputs": [],
   "source": [
    "class VRP():\n",
    "    def __init__(self, n_pop, dimensions, maxiters, bounds, Mutation_rate, Crossover_rate):\n",
    "        self.n_pop = n_pop\n",
    "        self.dimensions = dimensions\n",
    "        self.maxiters = maxiters\n",
    "        self.bounds = bounds\n",
    "        self.Mutation_rate = Mutation_rate\n",
    "        self.Crossover_rate = Crossover_rate "
   ]
  },
  {
   "cell_type": "code",
   "execution_count": null,
   "id": "6ba2297e",
   "metadata": {},
   "outputs": [
    {
     "ename": "TypeError",
     "evalue": "VRP.__init__() missing 5 required positional arguments: 'dimensions', 'maxiters', 'bounds', 'Mutation_rate', and 'Crossover_rate'",
     "output_type": "error",
     "traceback": [
      "\u001b[1;31m---------------------------------------------------------------------------\u001b[0m",
      "\u001b[1;31mTypeError\u001b[0m                                 Traceback (most recent call last)",
      "Cell \u001b[1;32mIn[4], line 1\u001b[0m\n\u001b[1;32m----> 1\u001b[0m vrp \u001b[38;5;241m=\u001b[39m \u001b[43mVRP\u001b[49m\u001b[43m(\u001b[49m\u001b[38;5;241;43m10\u001b[39;49m\u001b[43m)\u001b[49m\n\u001b[0;32m      3\u001b[0m vrp\u001b[38;5;241m.\u001b[39mn_pop\n",
      "\u001b[1;31mTypeError\u001b[0m: VRP.__init__() missing 5 required positional arguments: 'dimensions', 'maxiters', 'bounds', 'Mutation_rate', and 'Crossover_rate'"
     ]
    }
   ],
   "source": []
  },
  {
   "cell_type": "code",
   "execution_count": null,
   "id": "62319cf1",
   "metadata": {},
   "outputs": [],
   "source": []
  },
  {
   "cell_type": "code",
   "execution_count": null,
   "id": "3595a74d",
   "metadata": {},
   "outputs": [],
   "source": []
  }
 ],
 "metadata": {
  "kernelspec": {
   "display_name": "rl-meta-test (3.10.18)",
   "language": "python",
   "name": "python3"
  },
  "language_info": {
   "codemirror_mode": {
    "name": "ipython",
    "version": 3
   },
   "file_extension": ".py",
   "mimetype": "text/x-python",
   "name": "python",
   "nbconvert_exporter": "python",
   "pygments_lexer": "ipython3",
   "version": "3.10.18"
  }
 },
 "nbformat": 4,
 "nbformat_minor": 5
}
